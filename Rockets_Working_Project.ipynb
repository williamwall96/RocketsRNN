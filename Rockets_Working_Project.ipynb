{
  "nbformat": 4,
  "nbformat_minor": 0,
  "metadata": {
    "colab": {
      "provenance": []
    },
    "kernelspec": {
      "name": "python3",
      "display_name": "Python 3"
    },
    "language_info": {
      "name": "python"
    }
  },
  "cells": [
    {
      "cell_type": "markdown",
      "source": [
        "# Project Introduction\n",
        "\n",
        "\n",
        "In recent years, real-time win probability models have become a valuable tool for interpreting the flow and outcome of sporting events. These models provide fans, analysts, and coaches with dynamic insights into a team’s likelihood of victory as the game progresses, based on contextual in-game features. In this project, we developed a deep learning model to estimate the win probability of the Houston Rockets at each point during an NBA game, using only in-game play-by-play data.\n",
        "\n",
        "We retrieved our data using the nba_api Python library, an official interface to NBA.com’s stats endpoints. Specifically, we utilized the PlayByPlayV3 endpoint to download event-level data for every game played by the Houston Rockets during the 2023–2024 NBA regular season. Each game contains a chronological list of possessions and actions — such as made shots, rebounds, fouls, and turnovers — along with game clock, team IDs, and scores.\n",
        "\n",
        "Our problem is framed as a binary sequence classification task: at each point in the game, the model outputs a win probability (between 0 and 1), which estimates whether the Rockets will ultimately win. This problem is both sequential and time-dependent, making it well-suited for recurrent neural networks (RNNs), which are capable of modeling temporal dependencies across sequential data.\n",
        "\n",
        "We focused on building a win probability model from the perspective of a single team — the Houston Rockets — using a streamlined, interpretable set of features engineered directly from the play-by-play logs. Our goal was to evaluate whether a deep learning model could learn meaningful win dynamics and generate realistic probability curves that reflect in-game momentum swings and score changes."
      ],
      "metadata": {
        "id": "HzbUkkkYQMjU"
      }
    },
    {
      "cell_type": "markdown",
      "source": [
        "# Load Data"
      ],
      "metadata": {
        "id": "u_n72-AxQIZb"
      }
    },
    {
      "cell_type": "code",
      "execution_count": 87,
      "metadata": {
        "id": "piDIyspIPOdi"
      },
      "outputs": [],
      "source": [
        "# Load your rockets_summary.csv first\n",
        "import pandas as pd\n",
        "\n",
        "summary = pd.read_csv(\"/content/drive/MyDrive/Rockets project/rockets_summary.csv\")\n",
        "summary = summary.sort_values('GAME_DATE')  # Ensure chronological order\n",
        "\n",
        "# 70% train, 30% test\n",
        "train_game_ids = summary['GAME_ID'].iloc[:57].tolist()   # first 57 games\n",
        "test_game_ids  = summary['GAME_ID'].iloc[57:].tolist()   # last 25 games\n"
      ]
    },
    {
      "cell_type": "markdown",
      "source": [
        "## Load and combine all play-by-play CSVs"
      ],
      "metadata": {
        "id": "F0Mjhqn5QUoX"
      }
    },
    {
      "cell_type": "code",
      "source": [
        "import pandas as pd\n",
        "import os\n",
        "import glob\n",
        "\n",
        "# Path to play-by-play data folder in your Drive\n",
        "pbp_path = \"/content/drive/MyDrive/Rockets project/pbp_data\"\n",
        "\n",
        "# Load all CSV files\n",
        "pbp_files = glob.glob(os.path.join(pbp_path, \"*.csv\"))\n",
        "all_games_df = pd.concat([pd.read_csv(f) for f in pbp_files], ignore_index=True)\n",
        "\n",
        "print(f\"Total events loaded: {len(all_games_df)}\")\n",
        "print(f\"Unique games: {all_games_df['GAME_ID'].nunique()}\")\n"
      ],
      "metadata": {
        "colab": {
          "base_uri": "https://localhost:8080/"
        },
        "id": "N4cycE6APdd2",
        "outputId": "5b25bb1a-426c-477f-a497-9de487f12328"
      },
      "execution_count": 88,
      "outputs": [
        {
          "output_type": "stream",
          "name": "stdout",
          "text": [
            "Total events loaded: 41241\n",
            "Unique games: 82\n"
          ]
        }
      ]
    },
    {
      "cell_type": "markdown",
      "source": [
        "## Load Game Summary"
      ],
      "metadata": {
        "id": "eVZ1XGGURHQn"
      }
    },
    {
      "cell_type": "code",
      "source": [
        "summary_path = \"/content/drive/MyDrive/Rockets project/rockets_summary.csv\"\n",
        "rockets_summary = pd.read_csv(summary_path)\n",
        "rockets_summary['GAME_DATE'] = pd.to_datetime(rockets_summary['GAME_DATE'])\n",
        "\n",
        "# Sort for time-based splitting\n",
        "rockets_summary = rockets_summary.sort_values('GAME_DATE').reset_index(drop=True)\n"
      ],
      "metadata": {
        "id": "PAfxMWR3QcKf"
      },
      "execution_count": 89,
      "outputs": []
    },
    {
      "cell_type": "markdown",
      "source": [
        "## Train/Test Split by Game ID"
      ],
      "metadata": {
        "id": "-gYIxdfzRWuH"
      }
    },
    {
      "cell_type": "code",
      "source": [
        "# 70/30 chronological split\n",
        "train_game_ids = rockets_summary['GAME_ID'].iloc[:57].tolist()\n",
        "test_game_ids = rockets_summary['GAME_ID'].iloc[57:].tolist()\n",
        "\n",
        "# Tag rows in play-by-play data\n",
        "all_games_df['dataset_split'] = all_games_df['GAME_ID'].apply(\n",
        "    lambda gid: 'train' if gid in train_game_ids else 'test'\n",
        ")\n",
        "\n",
        "# Merge in win/loss labels\n",
        "all_games_df = all_games_df.merge(\n",
        "    rockets_summary[['GAME_ID', 'rockets_win']],\n",
        "    on='GAME_ID',\n",
        "    how='left'\n",
        ")\n",
        "\n",
        "print(all_games_df[['GAME_ID', 'dataset_split', 'rockets_win']].head())\n"
      ],
      "metadata": {
        "colab": {
          "base_uri": "https://localhost:8080/"
        },
        "id": "ztUc8QtSRKB0",
        "outputId": "014ac481-6fce-4a1d-f78f-c66c75058733"
      },
      "execution_count": 90,
      "outputs": [
        {
          "output_type": "stream",
          "name": "stdout",
          "text": [
            "    GAME_ID dataset_split  rockets_win\n",
            "0  22301199          test            1\n",
            "1  22301199          test            1\n",
            "2  22301199          test            1\n",
            "3  22301199          test            1\n",
            "4  22301199          test            1\n"
          ]
        }
      ]
    },
    {
      "cell_type": "markdown",
      "source": [
        "# EDA"
      ],
      "metadata": {
        "id": "mkAKCeSCRosZ"
      }
    },
    {
      "cell_type": "markdown",
      "source": [
        "## Distribution of Event Types"
      ],
      "metadata": {
        "id": "_mdm4TSIRs8s"
      }
    },
    {
      "cell_type": "markdown",
      "source": [
        "This bar chart displays the frequency of the top 15 actionType events recorded across all Houston Rockets games in the 2023–2024 NBA season. These actionType values are categorical descriptors assigned by the NBA to each play in the play-by-play log.\n",
        "\n",
        "We observe that the most common event types include:\n",
        "\n",
        "Rebound (most frequent): indicating the high volume of missed shot recoveries in an average game\n",
        "\n",
        "Missed Shot and Made Shot: together accounting for most field goal attempts\n",
        "\n",
        "Free Throw and Substitution: both frequent and essential parts of game flow\n",
        "\n",
        "Less frequent but still notable events include Foul, Turnover, and Timeout. Rare events such as Jump Ball, Violation, and Ejection appear much less often.\n",
        "\n",
        "Understanding this distribution helped guide our feature engineering. Instead of using overlapping indicators like isFieldGoal, shotResult, or shotDistance, we chose to rely solely on the encoded actionType feature to capture play context. This reduced feature redundancy and emphasized the game's evolving structure while maintaining interpretability."
      ],
      "metadata": {
        "id": "aovVrvJMqVTg"
      }
    },
    {
      "cell_type": "code",
      "source": [
        "all_games_df['actionType'].value_counts().head(15).plot(kind='barh', figsize=(8, 5), title='Top 15 Action Types')\n"
      ],
      "metadata": {
        "colab": {
          "base_uri": "https://localhost:8080/",
          "height": 485
        },
        "id": "62z2X1XWRpvV",
        "outputId": "3603a137-7a1a-41b9-9945-13170911c21d"
      },
      "execution_count": 91,
      "outputs": [
        {
          "output_type": "execute_result",
          "data": {
            "text/plain": [
              "<Axes: title={'center': 'Top 15 Action Types'}, ylabel='actionType'>"
            ]
          },
          "metadata": {},
          "execution_count": 91
        },
        {
          "output_type": "display_data",
          "data": {
            "text/plain": [
              "<Figure size 800x500 with 1 Axes>"
            ],
            "image/png": "[encoded data removed]"
          },
          "metadata": {}
        }
      ]
    },
    {
      "cell_type": "markdown",
      "source": [
        "## Distribution of Score Differential"
      ],
      "metadata": {
        "id": "eQYkquFAR1li"
      }
    },
    {
      "cell_type": "markdown",
      "source": [
        "This histogram shows the distribution of the score differential at each event across all Houston Rockets games in the 2023–2024 NBA season. The score differential was computed as scoreHome - scoreAway, representing the home team’s lead at the time of each play.\n",
        "\n",
        "The distribution is approximately bell-shaped and centered near zero, which aligns with expectations in competitive games where the score margin fluctuates frequently. The majority of events occur when the score differential is between −10 and +15 points, indicating most plays happen during relatively close games.\n",
        "\n",
        "However, this raw score differential is home-team-centric and does not account for whether the Rockets were playing at home or away. This limitation could confuse a model attempting to learn win dynamics from the Rockets’ perspective, since a positive score differential does not always mean the Rockets are winning.\n",
        "\n",
        "Recognizing this, we later replaced score_diff with a Rockets-specific score differential (rockets_score_diff) during feature engineering. This version correctly adjusts the sign of the score based on whether the Rockets were the home or visiting team, ensuring that positive values always reflect a Rockets lead."
      ],
      "metadata": {
        "id": "iYS8mYPoqpCp"
      }
    },
    {
      "cell_type": "code",
      "source": [
        "all_games_df['score_diff'] = all_games_df['scoreHome'] - all_games_df['scoreAway']\n",
        "\n",
        "all_games_df['score_diff'].hist(bins=50, figsize=(8, 4))\n",
        "\n"
      ],
      "metadata": {
        "colab": {
          "base_uri": "https://localhost:8080/",
          "height": 385
        },
        "id": "RCuMD16DRwAO",
        "outputId": "a11d93e3-24d2-4112-8f88-5e592f7d026d"
      },
      "execution_count": 92,
      "outputs": [
        {
          "output_type": "execute_result",
          "data": {
            "text/plain": [
              "<Axes: >"
            ]
          },
          "metadata": {},
          "execution_count": 92
        },
        {
          "output_type": "display_data",
          "data": {
            "text/plain": [
              "<Figure size 800x400 with 1 Axes>"
            ],
            "image/png": "[encoded data removed]"
          },
          "metadata": {}
        }
      ]
    },
    {
      "cell_type": "markdown",
      "source": [
        "## Win/Loss Balance - 50/50 split - The Houston Rockets went 41/41 in the 2023-2024 NBA Season"
      ],
      "metadata": {
        "id": "mNGLMOLQSJAs"
      }
    },
    {
      "cell_type": "markdown",
      "source": [
        "This bar chart displays the final win/loss record of the Houston Rockets during the 2023–2024 NBA regular season. As indicated, the team finished the season with a perfectly balanced record of 41 wins and 41 losses.\n",
        "\n",
        "This even 50/50 split provides a naturally balanced dataset for binary classification tasks like win prediction. Having roughly equal representation of wins (rockets_win = 1) and losses (rockets_win = 0) ensures that the model does not become biased toward overpredicting one outcome over the other.\n",
        "\n",
        "This win/loss record was used to label each game with a binary outcome, which was then expanded to label every timestep (event) within the game. These per-timestep labels were critical in training the model to predict the probability of a Rockets win as the game progressed."
      ],
      "metadata": {
        "id": "-2h9MKsyqzAN"
      }
    },
    {
      "cell_type": "code",
      "source": [
        "rockets_summary['rockets_win'].value_counts().plot(kind='bar', title='Win/Loss Count')\n"
      ],
      "metadata": {
        "colab": {
          "base_uri": "https://localhost:8080/",
          "height": 484
        },
        "id": "PWvUIPhYR8BO",
        "outputId": "98cd10e4-2b3a-4b01-dd2e-03e8a5ac395a"
      },
      "execution_count": 93,
      "outputs": [
        {
          "output_type": "execute_result",
          "data": {
            "text/plain": [
              "<Axes: title={'center': 'Win/Loss Count'}, xlabel='rockets_win'>"
            ]
          },
          "metadata": {},
          "execution_count": 93
        },
        {
          "output_type": "display_data",
          "data": {
            "text/plain": [
              "<Figure size 640x480 with 1 Axes>"
            ],
            "image/png": "[encoded data removed]"
          },
          "metadata": {}
        }
      ]
    },
    {
      "cell_type": "markdown",
      "source": [
        "## Possession Count per Game"
      ],
      "metadata": {
        "id": "3_8axQV2Ttpr"
      }
    },
    {
      "cell_type": "markdown",
      "source": [
        "This histogram shows the distribution of the total number of play-by-play events (or possessions/actions) recorded per game for the Houston Rockets during the 2023–2024 NBA season. Each game contains a sequential list of all game events, including shot attempts, rebounds, fouls, substitutions, timeouts, and more.\n",
        "\n",
        "Most games had between 470 and 530 events, with a peak around 480–490, which aligns with expectations for a regulation-length NBA game. A small number of games reached over 580 events, likely due to overtime periods or unusually eventful games.\n",
        "\n",
        "This distribution was important when deciding how to preprocess input sequences for the model. Since RNNs require uniform input length, we chose to pad or truncate each game’s event sequence to 512 steps, ensuring all inputs had consistent shape while preserving most of the in-game context. Games with fewer than 512 events were zero-padded at the end, while longer games were truncated to their first 512 events.\n",
        "\n",
        "This decision balanced sequence coverage with computational efficiency, allowing the model to learn from a standardized input format while still capturing nearly all regulation-length games in full."
      ],
      "metadata": {
        "id": "yPtwz66xrXlk"
      }
    },
    {
      "cell_type": "code",
      "source": [
        "import matplotlib.pyplot as plt\n",
        "\n",
        "possessions_per_game = all_games_df.groupby('GAME_ID').size()\n",
        "\n",
        "plt.figure(figsize=(8, 4))\n",
        "plt.hist(possessions_per_game, bins=20)\n",
        "plt.xlabel(\"Number of Events\")\n",
        "plt.ylabel(\"Number of Games\")\n",
        "plt.title(\"Number of Events per Game\")\n",
        "plt.grid(True)\n",
        "plt.show()\n",
        "\n"
      ],
      "metadata": {
        "colab": {
          "base_uri": "https://localhost:8080/",
          "height": 410
        },
        "id": "nTB1ATfRSERh",
        "outputId": "afa6c2a5-6ebd-45aa-c393-07320ce2ed53"
      },
      "execution_count": 94,
      "outputs": [
        {
          "output_type": "display_data",
          "data": {
            "text/plain": [
              "<Figure size 800x400 with 1 Axes>"
            ],
            "image/png": "[encoded data removed]"
          },
          "metadata": {}
        }
      ]
    },
    {
      "cell_type": "markdown",
      "source": [
        "##Cleaning Data"
      ],
      "metadata": {
        "id": "ezj4SLT7gwvs"
      }
    },
    {
      "cell_type": "markdown",
      "source": [
        "During initial inspection of the play-by-play data, we observed that the scoreHome and scoreAway columns occasionally contained missing (NaN) values. These missing values typically occurred at the beginning of the game or immediately after quarter breaks, before any points had been scored.\n",
        "\n",
        "To address this, we applied a two-step cleaning strategy:\n",
        "\n",
        "Forward-fill missing scores:\n",
        "We used the .fillna(method='ffill') operation to propagate the most recent non-null score forward. This ensures that every event in the game is associated with the correct running total of the current score, even if no scoring event occurred at that moment. Forward-filling is especially important for modeling, since score context is essential for calculating the current game state (e.g., score differential).\n",
        "\n",
        "Fill any remaining nulls with 0:\n",
        "After forward-filling, any scores that remained NaN (typically only at the start of the game) were set to 0. This makes sense semantically, as the game always begins with both teams at zero points.\n",
        "\n",
        "This preprocessing step ensured that score-based features (like the Rockets-specific score differential) could be computed cleanly and consistently for every play in the dataset, without introducing artificial gaps in the scoring timeline."
      ],
      "metadata": {
        "id": "T1efaxhYr9NK"
      }
    },
    {
      "cell_type": "markdown",
      "source": [
        "### Forward Fill both score columns"
      ],
      "metadata": {
        "id": "6gl20U0GhZBH"
      }
    },
    {
      "cell_type": "code",
      "source": [
        "all_games_df['scoreHome'] = all_games_df['scoreHome'].fillna(method='ffill')\n",
        "all_games_df['scoreAway'] = all_games_df['scoreAway'].fillna(method='ffill')\n",
        "# all_games_df['scoreHome']\n"
      ],
      "metadata": {
        "colab": {
          "base_uri": "https://localhost:8080/"
        },
        "id": "LsDimZcngykZ",
        "outputId": "776487fa-f2de-46a3-9a63-0c3e50a8fcd8"
      },
      "execution_count": 95,
      "outputs": [
        {
          "output_type": "stream",
          "name": "stderr",
          "text": [
            "<ipython-input-95-d7833d0c1d2d>:1: FutureWarning: Series.fillna with 'method' is deprecated and will raise in a future version. Use obj.ffill() or obj.bfill() instead.\n",
            "  all_games_df['scoreHome'] = all_games_df['scoreHome'].fillna(method='ffill')\n",
            "<ipython-input-95-d7833d0c1d2d>:2: FutureWarning: Series.fillna with 'method' is deprecated and will raise in a future version. Use obj.ffill() or obj.bfill() instead.\n",
            "  all_games_df['scoreAway'] = all_games_df['scoreAway'].fillna(method='ffill')\n"
          ]
        }
      ]
    },
    {
      "cell_type": "markdown",
      "source": [
        "###fill leading NaNs (e.g., before first score is posted)"
      ],
      "metadata": {
        "id": "CVnSL2HIhe6I"
      }
    },
    {
      "cell_type": "code",
      "source": [
        "all_games_df['scoreHome'] = all_games_df['scoreHome'].fillna(0)\n",
        "all_games_df['scoreAway'] = all_games_df['scoreAway'].fillna(0)\n"
      ],
      "metadata": {
        "id": "Bd66NE2KhV1V"
      },
      "execution_count": 96,
      "outputs": []
    },
    {
      "cell_type": "code",
      "source": [
        "all_games_df.head()"
      ],
      "metadata": {
        "colab": {
          "base_uri": "https://localhost:8080/",
          "height": 236
        },
        "id": "X2UniSX8Ac90",
        "outputId": "2eb0248a-c6d8-48c7-b334-7dcab9f41b08"
      },
      "execution_count": 97,
      "outputs": [
        {
          "output_type": "execute_result",
          "data": {
            "text/plain": [
              "     gameId  actionNumber        clock  period      teamId teamTricode  \\\n",
              "0  22301199             2  PT12M00.00S       1           0         NaN   \n",
              "1  22301199             4  PT12M00.00S       1  1610612746         LAC   \n",
              "2  22301199             7  PT11M52.00S       1  1610612746         LAC   \n",
              "3  22301199             8  PT11M50.00S       1  1610612745         HOU   \n",
              "4  22301199             9  PT11M34.00S       1  1610612745         HOU   \n",
              "\n",
              "   personId playerName   playerNameI  xLegacy  ...  \\\n",
              "0         0        NaN           NaN        0  ...   \n",
              "1    203486    Plumlee    M. Plumlee        0  ...   \n",
              "2   1629611       Mann       T. Mann     -189  ...   \n",
              "3   1631095  Smith Jr.  J. Smith Jr.        0  ...   \n",
              "4   1630224      Green      J. Green     -158  ...   \n",
              "\n",
              "                                  description   actionType    subType  \\\n",
              "0           Start of 1st Period (3:41 PM EST)       period      start   \n",
              "1  Jump Ball Plumlee vs. Landale: Tip to Moon    Jump Ball        NaN   \n",
              "2                 MISS Mann 26' 3PT Jump Shot  Missed Shot  Jump Shot   \n",
              "3             Smith Jr. REBOUND (Off:0 Def:1)      Rebound    Unknown   \n",
              "4            MISS Ja. Green 27' 3PT Jump Shot  Missed Shot  Jump Shot   \n",
              "\n",
              "   videoAvailable  shotValue  actionId   GAME_ID dataset_split rockets_win  \\\n",
              "0               0          0         1  22301199          test           1   \n",
              "1               1          0         2  22301199          test           1   \n",
              "2               1          3         3  22301199          test           1   \n",
              "3               1          0         4  22301199          test           1   \n",
              "4               1          3         5  22301199          test           1   \n",
              "\n",
              "  score_diff  \n",
              "0        0.0  \n",
              "1        NaN  \n",
              "2        NaN  \n",
              "3        NaN  \n",
              "4        NaN  \n",
              "\n",
              "[5 rows x 28 columns]"
            ],
            "text/html": [
              "\n",
              "  <div id=\"df-0aef89d6-b51e-4a28-9cbe-2253dc08d6fe\" class=\"colab-df-container\">\n",
              "    <div>\n",
              "<style scoped>\n",
              "    .dataframe tbody tr th:only-of-type {\n",
              "        vertical-align: middle;\n",
              "    }\n",
              "\n",
              "    .dataframe tbody tr th {\n",
              "        vertical-align: top;\n",
              "    }\n",
              "\n",
              "    .dataframe thead th {\n",
              "        text-align: right;\n",
              "    }\n",
              "</style>\n",
              "<table border=\"1\" class=\"dataframe\">\n",
              "  <thead>\n",
              "    <tr style=\"text-align: right;\">\n",
              "      <th></th>\n",
              "      <th>gameId</th>\n",
              "      <th>actionNumber</th>\n",
              "      <th>clock</th>\n",
              "      <th>period</th>\n",
              "      <th>teamId</th>\n",
              "      <th>teamTricode</th>\n",
              "      <th>personId</th>\n",
              "      <th>playerName</th>\n",
              "      <th>playerNameI</th>\n",
              "      <th>xLegacy</th>\n",
              "      <th>...</th>\n",
              "      <th>description</th>\n",
              "      <th>actionType</th>\n",
              "      <th>subType</th>\n",
              "      <th>videoAvailable</th>\n",
              "      <th>shotValue</th>\n",
              "      <th>actionId</th>\n",
              "      <th>GAME_ID</th>\n",
              "      <th>dataset_split</th>\n",
              "      <th>rockets_win</th>\n",
              "      <th>score_diff</th>\n",
              "    </tr>\n",
              "  </thead>\n",
              "  <tbody>\n",
              "    <tr>\n",
              "      <th>0</th>\n",
              "      <td>22301199</td>\n",
              "      <td>2</td>\n",
              "      <td>PT12M00.00S</td>\n",
              "      <td>1</td>\n",
              "      <td>0</td>\n",
              "      <td>NaN</td>\n",
              "      <td>0</td>\n",
              "      <td>NaN</td>\n",
              "      <td>NaN</td>\n",
              "      <td>0</td>\n",
              "      <td>...</td>\n",
              "      <td>Start of 1st Period (3:41 PM EST)</td>\n",
              "      <td>period</td>\n",
              "      <td>start</td>\n",
              "      <td>0</td>\n",
              "      <td>0</td>\n",
              "      <td>1</td>\n",
              "      <td>22301199</td>\n",
              "      <td>test</td>\n",
              "      <td>1</td>\n",
              "      <td>0.0</td>\n",
              "    </tr>\n",
              "    <tr>\n",
              "      <th>1</th>\n",
              "      <td>22301199</td>\n",
              "      <td>4</td>\n",
              "      <td>PT12M00.00S</td>\n",
              "      <td>1</td>\n",
              "      <td>1610612746</td>\n",
              "      <td>LAC</td>\n",
              "      <td>203486</td>\n",
              "      <td>Plumlee</td>\n",
              "      <td>M. Plumlee</td>\n",
              "      <td>0</td>\n",
              "      <td>...</td>\n",
              "      <td>Jump Ball Plumlee vs. Landale: Tip to Moon</td>\n",
              "      <td>Jump Ball</td>\n",
              "      <td>NaN</td>\n",
              "      <td>1</td>\n",
              "      <td>0</td>\n",
              "      <td>2</td>\n",
              "      <td>22301199</td>\n",
              "      <td>test</td>\n",
              "      <td>1</td>\n",
              "      <td>NaN</td>\n",
              "    </tr>\n",
              "    <tr>\n",
              "      <th>2</th>\n",
              "      <td>22301199</td>\n",
              "      <td>7</td>\n",
              "      <td>PT11M52.00S</td>\n",
              "      <td>1</td>\n",
              "      <td>1610612746</td>\n",
              "      <td>LAC</td>\n",
              "      <td>1629611</td>\n",
              "      <td>Mann</td>\n",
              "      <td>T. Mann</td>\n",
              "      <td>-189</td>\n",
              "      <td>...</td>\n",
              "      <td>MISS Mann 26' 3PT Jump Shot</td>\n",
              "      <td>Missed Shot</td>\n",
              "      <td>Jump Shot</td>\n",
              "      <td>1</td>\n",
              "      <td>3</td>\n",
              "      <td>3</td>\n",
              "      <td>22301199</td>\n",
              "      <td>test</td>\n",
              "      <td>1</td>\n",
              "      <td>NaN</td>\n",
              "    </tr>\n",
              "    <tr>\n",
              "      <th>3</th>\n",
              "      <td>22301199</td>\n",
              "      <td>8</td>\n",
              "      <td>PT11M50.00S</td>\n",
              "      <td>1</td>\n",
              "      <td>1610612745</td>\n",
              "      <td>HOU</td>\n",
              "      <td>1631095</td>\n",
              "      <td>Smith Jr.</td>\n",
              "      <td>J. Smith Jr.</td>\n",
              "      <td>0</td>\n",
              "      <td>...</td>\n",
              "      <td>Smith Jr. REBOUND (Off:0 Def:1)</td>\n",
              "      <td>Rebound</td>\n",
              "      <td>Unknown</td>\n",
              "      <td>1</td>\n",
              "      <td>0</td>\n",
              "      <td>4</td>\n",
              "      <td>22301199</td>\n",
              "      <td>test</td>\n",
              "      <td>1</td>\n",
              "      <td>NaN</td>\n",
              "    </tr>\n",
              "    <tr>\n",
              "      <th>4</th>\n",
              "      <td>22301199</td>\n",
              "      <td>9</td>\n",
              "      <td>PT11M34.00S</td>\n",
              "      <td>1</td>\n",
              "      <td>1610612745</td>\n",
              "      <td>HOU</td>\n",
              "      <td>1630224</td>\n",
              "      <td>Green</td>\n",
              "      <td>J. Green</td>\n",
              "      <td>-158</td>\n",
              "      <td>...</td>\n",
              "      <td>MISS Ja. Green 27' 3PT Jump Shot</td>\n",
              "      <td>Missed Shot</td>\n",
              "      <td>Jump Shot</td>\n",
              "      <td>1</td>\n",
              "      <td>3</td>\n",
              "      <td>5</td>\n",
              "      <td>22301199</td>\n",
              "      <td>test</td>\n",
              "      <td>1</td>\n",
              "      <td>NaN</td>\n",
              "    </tr>\n",
              "  </tbody>\n",
              "</table>\n",
              "<p>5 rows × 28 columns</p>\n",
              "</div>\n",
              "    <div class=\"colab-df-buttons\">\n",
              "\n",
              "  <div class=\"colab-df-container\">\n",
              "    <button class=\"colab-df-convert\" onclick=\"convertToInteractive('df-0aef89d6-b51e-4a28-9cbe-2253dc08d6fe')\"\n",
              "            title=\"Convert this dataframe to an interactive table.\"\n",
              "            style=\"display:none;\">\n",
              "\n",
              "  <svg xmlns=\"http://www.w3.org/2000/svg\" height=\"24px\" viewBox=\"0 -960 960 960\">\n",
              "    <path d=\"M120-120v-720h720v720H120Zm60-500h600v-160H180v160Zm220 220h160v-160H400v160Zm0 220h160v-160H400v160ZM180-400h160v-160H180v160Zm440 0h160v-160H620v160ZM180-180h160v-160H180v160Zm440 0h160v-160H620v160Z\"/>\n",
              "  </svg>\n",
              "    </button>\n",
              "\n",
              "  <style>\n",
              "    .colab-df-container {\n",
              "      display:flex;\n",
              "      gap: 12px;\n",
              "    }\n",
              "\n",
              "    .colab-df-convert {\n",
              "      background-color: #E8F0FE;\n",
              "      border: none;\n",
              "      border-radius: 50%;\n",
              "      cursor: pointer;\n",
              "      display: none;\n",
              "      fill: #1967D2;\n",
              "      height: 32px;\n",
              "      padding: 0 0 0 0;\n",
              "      width: 32px;\n",
              "    }\n",
              "\n",
              "    .colab-df-convert:hover {\n",
              "      background-color: #E2EBFA;\n",
              "      box-shadow: 0px 1px 2px rgba(60, 64, 67, 0.3), 0px 1px 3px 1px rgba(60, 64, 67, 0.15);\n",
              "      fill: #174EA6;\n",
              "    }\n",
              "\n",
              "    .colab-df-buttons div {\n",
              "      margin-bottom: 4px;\n",
              "    }\n",
              "\n",
              "    [theme=dark] .colab-df-convert {\n",
              "      background-color: #3B4455;\n",
              "      fill: #D2E3FC;\n",
              "    }\n",
              "\n",
              "    [theme=dark] .colab-df-convert:hover {\n",
              "      background-color: #434B5C;\n",
              "      box-shadow: 0px 1px 3px 1px rgba(0, 0, 0, 0.15);\n",
              "      filter: drop-shadow(0px 1px 2px rgba(0, 0, 0, 0.3));\n",
              "      fill: #FFFFFF;\n",
              "    }\n",
              "  </style>\n",
              "\n",
              "    <script>\n",
              "      const buttonEl =\n",
              "        document.querySelector('#df-0aef89d6-b51e-4a28-9cbe-2253dc08d6fe button.colab-df-convert');\n",
              "      buttonEl.style.display =\n",
              "        google.colab.kernel.accessAllowed ? 'block' : 'none';\n",
              "\n",
              "      async function convertToInteractive(key) {\n",
              "        const element = document.querySelector('#df-0aef89d6-b51e-4a28-9cbe-2253dc08d6fe');\n",
              "        const dataTable =\n",
              "          await google.colab.kernel.invokeFunction('convertToInteractive',\n",
              "                                                    [key], {});\n",
              "        if (!dataTable) return;\n",
              "\n",
              "        const docLinkHtml = 'Like what you see? Visit the ' +\n",
              "          '<a target=\"_blank\" href=https://colab.research.google.com/notebooks/data_table.ipynb>data table notebook</a>'\n",
              "          + ' to learn more about interactive tables.';\n",
              "        element.innerHTML = '';\n",
              "        dataTable['output_type'] = 'display_data';\n",
              "        await google.colab.output.renderOutput(dataTable, element);\n",
              "        const docLink = document.createElement('div');\n",
              "        docLink.innerHTML = docLinkHtml;\n",
              "        element.appendChild(docLink);\n",
              "      }\n",
              "    </script>\n",
              "  </div>\n",
              "\n",
              "\n",
              "    <div id=\"df-578b090b-0cbc-4656-a01c-b378098fa4e9\">\n",
              "      <button class=\"colab-df-quickchart\" onclick=\"quickchart('df-578b090b-0cbc-4656-a01c-b378098fa4e9')\"\n",
              "                title=\"Suggest charts\"\n",
              "                style=\"display:none;\">\n",
              "\n",
              "<svg xmlns=\"http://www.w3.org/2000/svg\" height=\"24px\"viewBox=\"0 0 24 24\"\n",
              "     width=\"24px\">\n",
              "    <g>\n",
              "        <path d=\"M19 3H5c-1.1 0-2 .9-2 2v14c0 1.1.9 2 2 2h14c1.1 0 2-.9 2-2V5c0-1.1-.9-2-2-2zM9 17H7v-7h2v7zm4 0h-2V7h2v10zm4 0h-2v-4h2v4z\"/>\n",
              "    </g>\n",
              "</svg>\n",
              "      </button>\n",
              "\n",
              "<style>\n",
              "  .colab-df-quickchart {\n",
              "      --bg-color: #E8F0FE;\n",
              "      --fill-color: #1967D2;\n",
              "      --hover-bg-color: #E2EBFA;\n",
              "      --hover-fill-color: #174EA6;\n",
              "      --disabled-fill-color: #AAA;\n",
              "      --disabled-bg-color: #DDD;\n",
              "  }\n",
              "\n",
              "  [theme=dark] .colab-df-quickchart {\n",
              "      --bg-color: #3B4455;\n",
              "      --fill-color: #D2E3FC;\n",
              "      --hover-bg-color: #434B5C;\n",
              "      --hover-fill-color: #FFFFFF;\n",
              "      --disabled-bg-color: #3B4455;\n",
              "      --disabled-fill-color: #666;\n",
              "  }\n",
              "\n",
              "  .colab-df-quickchart {\n",
              "    background-color: var(--bg-color);\n",
              "    border: none;\n",
              "    border-radius: 50%;\n",
              "    cursor: pointer;\n",
              "    display: none;\n",
              "    fill: var(--fill-color);\n",
              "    height: 32px;\n",
              "    padding: 0;\n",
              "    width: 32px;\n",
              "  }\n",
              "\n",
              "  .colab-df-quickchart:hover {\n",
              "    background-color: var(--hover-bg-color);\n",
              "    box-shadow: 0 1px 2px rgba(60, 64, 67, 0.3), 0 1px 3px 1px rgba(60, 64, 67, 0.15);\n",
              "    fill: var(--button-hover-fill-color);\n",
              "  }\n",
              "\n",
              "  .colab-df-quickchart-complete:disabled,\n",
              "  .colab-df-quickchart-complete:disabled:hover {\n",
              "    background-color: var(--disabled-bg-color);\n",
              "    fill: var(--disabled-fill-color);\n",
              "    box-shadow: none;\n",
              "  }\n",
              "\n",
              "  .colab-df-spinner {\n",
              "    border: 2px solid var(--fill-color);\n",
              "    border-color: transparent;\n",
              "    border-bottom-color: var(--fill-color);\n",
              "    animation:\n",
              "      spin 1s steps(1) infinite;\n",
              "  }\n",
              "\n",
              "  @keyframes spin {\n",
              "    0% {\n",
              "      border-color: transparent;\n",
              "      border-bottom-color: var(--fill-color);\n",
              "      border-left-color: var(--fill-color);\n",
              "    }\n",
              "    20% {\n",
              "      border-color: transparent;\n",
              "      border-left-color: var(--fill-color);\n",
              "      border-top-color: var(--fill-color);\n",
              "    }\n",
              "    30% {\n",
              "      border-color: transparent;\n",
              "      border-left-color: var(--fill-color);\n",
              "      border-top-color: var(--fill-color);\n",
              "      border-right-color: var(--fill-color);\n",
              "    }\n",
              "    40% {\n",
              "      border-color: transparent;\n",
              "      border-right-color: var(--fill-color);\n",
              "      border-top-color: var(--fill-color);\n",
              "    }\n",
              "    60% {\n",
              "      border-color: transparent;\n",
              "      border-right-color: var(--fill-color);\n",
              "    }\n",
              "    80% {\n",
              "      border-color: transparent;\n",
              "      border-right-color: var(--fill-color);\n",
              "      border-bottom-color: var(--fill-color);\n",
              "    }\n",
              "    90% {\n",
              "      border-color: transparent;\n",
              "      border-bottom-color: var(--fill-color);\n",
              "    }\n",
              "  }\n",
              "</style>\n",
              "\n",
              "      <script>\n",
              "        async function quickchart(key) {\n",
              "          const quickchartButtonEl =\n",
              "            document.querySelector('#' + key + ' button');\n",
              "          quickchartButtonEl.disabled = true;  // To prevent multiple clicks.\n",
              "          quickchartButtonEl.classList.add('colab-df-spinner');\n",
              "          try {\n",
              "            const charts = await google.colab.kernel.invokeFunction(\n",
              "                'suggestCharts', [key], {});\n",
              "          } catch (error) {\n",
              "            console.error('Error during call to suggestCharts:', error);\n",
              "          }\n",
              "          quickchartButtonEl.classList.remove('colab-df-spinner');\n",
              "          quickchartButtonEl.classList.add('colab-df-quickchart-complete');\n",
              "        }\n",
              "        (() => {\n",
              "          let quickchartButtonEl =\n",
              "            document.querySelector('#df-578b090b-0cbc-4656-a01c-b378098fa4e9 button');\n",
              "          quickchartButtonEl.style.display =\n",
              "            google.colab.kernel.accessAllowed ? 'block' : 'none';\n",
              "        })();\n",
              "      </script>\n",
              "    </div>\n",
              "\n",
              "    </div>\n",
              "  </div>\n"
            ],
            "application/vnd.google.colaboratory.intrinsic+json": {
              "type": "dataframe",
              "variable_name": "all_games_df"
            }
          },
          "metadata": {},
          "execution_count": 97
        }
      ]
    },
    {
      "cell_type": "code",
      "source": [
        "rockets_summary.head()"
      ],
      "metadata": {
        "colab": {
          "base_uri": "https://localhost:8080/",
          "height": 206
        },
        "id": "nesh3FuhC8W8",
        "outputId": "5ffa5504-5636-45b6-91f2-af45c091b5f9"
      },
      "execution_count": 98,
      "outputs": [
        {
          "output_type": "execute_result",
          "data": {
            "text/plain": [
              "    GAME_ID  GAME_DATE home_team away_team  hou_score  opp_score  rockets_win\n",
              "0  22300066 2023-10-25       ORL       HOU         86      116.0            0\n",
              "1  22300083 2023-10-27       SAS       HOU        122      126.0            0\n",
              "2  22300096 2023-10-29       HOU       GSW         95      106.0            0\n",
              "3  22300122 2023-11-01       HOU       CHA        128      119.0            1\n",
              "4  22300137 2023-11-04       HOU       SAC        107       89.0            1"
            ],
            "text/html": [
              "\n",
              "  <div id=\"df-a4c72f73-3b05-47e5-bf35-20ae433ac874\" class=\"colab-df-container\">\n",
              "    <div>\n",
              "<style scoped>\n",
              "    .dataframe tbody tr th:only-of-type {\n",
              "        vertical-align: middle;\n",
              "    }\n",
              "\n",
              "    .dataframe tbody tr th {\n",
              "        vertical-align: top;\n",
              "    }\n",
              "\n",
              "    .dataframe thead th {\n",
              "        text-align: right;\n",
              "    }\n",
              "</style>\n",
              "<table border=\"1\" class=\"dataframe\">\n",
              "  <thead>\n",
              "    <tr style=\"text-align: right;\">\n",
              "      <th></th>\n",
              "      <th>GAME_ID</th>\n",
              "      <th>GAME_DATE</th>\n",
              "      <th>home_team</th>\n",
              "      <th>away_team</th>\n",
              "      <th>hou_score</th>\n",
              "      <th>opp_score</th>\n",
              "      <th>rockets_win</th>\n",
              "    </tr>\n",
              "  </thead>\n",
              "  <tbody>\n",
              "    <tr>\n",
              "      <th>0</th>\n",
              "      <td>22300066</td>\n",
              "      <td>2023-10-25</td>\n",
              "      <td>ORL</td>\n",
              "      <td>HOU</td>\n",
              "      <td>86</td>\n",
              "      <td>116.0</td>\n",
              "      <td>0</td>\n",
              "    </tr>\n",
              "    <tr>\n",
              "      <th>1</th>\n",
              "      <td>22300083</td>\n",
              "      <td>2023-10-27</td>\n",
              "      <td>SAS</td>\n",
              "      <td>HOU</td>\n",
              "      <td>122</td>\n",
              "      <td>126.0</td>\n",
              "      <td>0</td>\n",
              "    </tr>\n",
              "    <tr>\n",
              "      <th>2</th>\n",
              "      <td>22300096</td>\n",
              "      <td>2023-10-29</td>\n",
              "      <td>HOU</td>\n",
              "      <td>GSW</td>\n",
              "      <td>95</td>\n",
              "      <td>106.0</td>\n",
              "      <td>0</td>\n",
              "    </tr>\n",
              "    <tr>\n",
              "      <th>3</th>\n",
              "      <td>22300122</td>\n",
              "      <td>2023-11-01</td>\n",
              "      <td>HOU</td>\n",
              "      <td>CHA</td>\n",
              "      <td>128</td>\n",
              "      <td>119.0</td>\n",
              "      <td>1</td>\n",
              "    </tr>\n",
              "    <tr>\n",
              "      <th>4</th>\n",
              "      <td>22300137</td>\n",
              "      <td>2023-11-04</td>\n",
              "      <td>HOU</td>\n",
              "      <td>SAC</td>\n",
              "      <td>107</td>\n",
              "      <td>89.0</td>\n",
              "      <td>1</td>\n",
              "    </tr>\n",
              "  </tbody>\n",
              "</table>\n",
              "</div>\n",
              "    <div class=\"colab-df-buttons\">\n",
              "\n",
              "  <div class=\"colab-df-container\">\n",
              "    <button class=\"colab-df-convert\" onclick=\"convertToInteractive('df-a4c72f73-3b05-47e5-bf35-20ae433ac874')\"\n",
              "            title=\"Convert this dataframe to an interactive table.\"\n",
              "            style=\"display:none;\">\n",
              "\n",
              "  <svg xmlns=\"http://www.w3.org/2000/svg\" height=\"24px\" viewBox=\"0 -960 960 960\">\n",
              "    <path d=\"M120-120v-720h720v720H120Zm60-500h600v-160H180v160Zm220 220h160v-160H400v160Zm0 220h160v-160H400v160ZM180-400h160v-160H180v160Zm440 0h160v-160H620v160ZM180-180h160v-160H180v160Zm440 0h160v-160H620v160Z\"/>\n",
              "  </svg>\n",
              "    </button>\n",
              "\n",
              "  <style>\n",
              "    .colab-df-container {\n",
              "      display:flex;\n",
              "      gap: 12px;\n",
              "    }\n",
              "\n",
              "    .colab-df-convert {\n",
              "      background-color: #E8F0FE;\n",
              "      border: none;\n",
              "      border-radius: 50%;\n",
              "      cursor: pointer;\n",
              "      display: none;\n",
              "      fill: #1967D2;\n",
              "      height: 32px;\n",
              "      padding: 0 0 0 0;\n",
              "      width: 32px;\n",
              "    }\n",
              "\n",
              "    .colab-df-convert:hover {\n",
              "      background-color: #E2EBFA;\n",
              "      box-shadow: 0px 1px 2px rgba(60, 64, 67, 0.3), 0px 1px 3px 1px rgba(60, 64, 67, 0.15);\n",
              "      fill: #174EA6;\n",
              "    }\n",
              "\n",
              "    .colab-df-buttons div {\n",
              "      margin-bottom: 4px;\n",
              "    }\n",
              "\n",
              "    [theme=dark] .colab-df-convert {\n",
              "      background-color: #3B4455;\n",
              "      fill: #D2E3FC;\n",
              "    }\n",
              "\n",
              "    [theme=dark] .colab-df-convert:hover {\n",
              "      background-color: #434B5C;\n",
              "      box-shadow: 0px 1px 3px 1px rgba(0, 0, 0, 0.15);\n",
              "      filter: drop-shadow(0px 1px 2px rgba(0, 0, 0, 0.3));\n",
              "      fill: #FFFFFF;\n",
              "    }\n",
              "  </style>\n",
              "\n",
              "    <script>\n",
              "      const buttonEl =\n",
              "        document.querySelector('#df-a4c72f73-3b05-47e5-bf35-20ae433ac874 button.colab-df-convert');\n",
              "      buttonEl.style.display =\n",
              "        google.colab.kernel.accessAllowed ? 'block' : 'none';\n",
              "\n",
              "      async function convertToInteractive(key) {\n",
              "        const element = document.querySelector('#df-a4c72f73-3b05-47e5-bf35-20ae433ac874');\n",
              "        const dataTable =\n",
              "          await google.colab.kernel.invokeFunction('convertToInteractive',\n",
              "                                                    [key], {});\n",
              "        if (!dataTable) return;\n",
              "\n",
              "        const docLinkHtml = 'Like what you see? Visit the ' +\n",
              "          '<a target=\"_blank\" href=https://colab.research.google.com/notebooks/data_table.ipynb>data table notebook</a>'\n",
              "          + ' to learn more about interactive tables.';\n",
              "        element.innerHTML = '';\n",
              "        dataTable['output_type'] = 'display_data';\n",
              "        await google.colab.output.renderOutput(dataTable, element);\n",
              "        const docLink = document.createElement('div');\n",
              "        docLink.innerHTML = docLinkHtml;\n",
              "        element.appendChild(docLink);\n",
              "      }\n",
              "    </script>\n",
              "  </div>\n",
              "\n",
              "\n",
              "    <div id=\"df-5d845d84-79c8-42c6-831c-437e4bee063b\">\n",
              "      <button class=\"colab-df-quickchart\" onclick=\"quickchart('df-5d845d84-79c8-42c6-831c-437e4bee063b')\"\n",
              "                title=\"Suggest charts\"\n",
              "                style=\"display:none;\">\n",
              "\n",
              "<svg xmlns=\"http://www.w3.org/2000/svg\" height=\"24px\"viewBox=\"0 0 24 24\"\n",
              "     width=\"24px\">\n",
              "    <g>\n",
              "        <path d=\"M19 3H5c-1.1 0-2 .9-2 2v14c0 1.1.9 2 2 2h14c1.1 0 2-.9 2-2V5c0-1.1-.9-2-2-2zM9 17H7v-7h2v7zm4 0h-2V7h2v10zm4 0h-2v-4h2v4z\"/>\n",
              "    </g>\n",
              "</svg>\n",
              "      </button>\n",
              "\n",
              "<style>\n",
              "  .colab-df-quickchart {\n",
              "      --bg-color: #E8F0FE;\n",
              "      --fill-color: #1967D2;\n",
              "      --hover-bg-color: #E2EBFA;\n",
              "      --hover-fill-color: #174EA6;\n",
              "      --disabled-fill-color: #AAA;\n",
              "      --disabled-bg-color: #DDD;\n",
              "  }\n",
              "\n",
              "  [theme=dark] .colab-df-quickchart {\n",
              "      --bg-color: #3B4455;\n",
              "      --fill-color: #D2E3FC;\n",
              "      --hover-bg-color: #434B5C;\n",
              "      --hover-fill-color: #FFFFFF;\n",
              "      --disabled-bg-color: #3B4455;\n",
              "      --disabled-fill-color: #666;\n",
              "  }\n",
              "\n",
              "  .colab-df-quickchart {\n",
              "    background-color: var(--bg-color);\n",
              "    border: none;\n",
              "    border-radius: 50%;\n",
              "    cursor: pointer;\n",
              "    display: none;\n",
              "    fill: var(--fill-color);\n",
              "    height: 32px;\n",
              "    padding: 0;\n",
              "    width: 32px;\n",
              "  }\n",
              "\n",
              "  .colab-df-quickchart:hover {\n",
              "    background-color: var(--hover-bg-color);\n",
              "    box-shadow: 0 1px 2px rgba(60, 64, 67, 0.3), 0 1px 3px 1px rgba(60, 64, 67, 0.15);\n",
              "    fill: var(--button-hover-fill-color);\n",
              "  }\n",
              "\n",
              "  .colab-df-quickchart-complete:disabled,\n",
              "  .colab-df-quickchart-complete:disabled:hover {\n",
              "    background-color: var(--disabled-bg-color);\n",
              "    fill: var(--disabled-fill-color);\n",
              "    box-shadow: none;\n",
              "  }\n",
              "\n",
              "  .colab-df-spinner {\n",
              "    border: 2px solid var(--fill-color);\n",
              "    border-color: transparent;\n",
              "    border-bottom-color: var(--fill-color);\n",
              "    animation:\n",
              "      spin 1s steps(1) infinite;\n",
              "  }\n",
              "\n",
              "  @keyframes spin {\n",
              "    0% {\n",
              "      border-color: transparent;\n",
              "      border-bottom-color: var(--fill-color);\n",
              "      border-left-color: var(--fill-color);\n",
              "    }\n",
              "    20% {\n",
              "      border-color: transparent;\n",
              "      border-left-color: var(--fill-color);\n",
              "      border-top-color: var(--fill-color);\n",
              "    }\n",
              "    30% {\n",
              "      border-color: transparent;\n",
              "      border-left-color: var(--fill-color);\n",
              "      border-top-color: var(--fill-color);\n",
              "      border-right-color: var(--fill-color);\n",
              "    }\n",
              "    40% {\n",
              "      border-color: transparent;\n",
              "      border-right-color: var(--fill-color);\n",
              "      border-top-color: var(--fill-color);\n",
              "    }\n",
              "    60% {\n",
              "      border-color: transparent;\n",
              "      border-right-color: var(--fill-color);\n",
              "    }\n",
              "    80% {\n",
              "      border-color: transparent;\n",
              "      border-right-color: var(--fill-color);\n",
              "      border-bottom-color: var(--fill-color);\n",
              "    }\n",
              "    90% {\n",
              "      border-color: transparent;\n",
              "      border-bottom-color: var(--fill-color);\n",
              "    }\n",
              "  }\n",
              "</style>\n",
              "\n",
              "      <script>\n",
              "        async function quickchart(key) {\n",
              "          const quickchartButtonEl =\n",
              "            document.querySelector('#' + key + ' button');\n",
              "          quickchartButtonEl.disabled = true;  // To prevent multiple clicks.\n",
              "          quickchartButtonEl.classList.add('colab-df-spinner');\n",
              "          try {\n",
              "            const charts = await google.colab.kernel.invokeFunction(\n",
              "                'suggestCharts', [key], {});\n",
              "          } catch (error) {\n",
              "            console.error('Error during call to suggestCharts:', error);\n",
              "          }\n",
              "          quickchartButtonEl.classList.remove('colab-df-spinner');\n",
              "          quickchartButtonEl.classList.add('colab-df-quickchart-complete');\n",
              "        }\n",
              "        (() => {\n",
              "          let quickchartButtonEl =\n",
              "            document.querySelector('#df-5d845d84-79c8-42c6-831c-437e4bee063b button');\n",
              "          quickchartButtonEl.style.display =\n",
              "            google.colab.kernel.accessAllowed ? 'block' : 'none';\n",
              "        })();\n",
              "      </script>\n",
              "    </div>\n",
              "\n",
              "    </div>\n",
              "  </div>\n"
            ],
            "application/vnd.google.colaboratory.intrinsic+json": {
              "type": "dataframe",
              "variable_name": "rockets_summary",
              "summary": "{\n  \"name\": \"rockets_summary\",\n  \"rows\": 82,\n  \"fields\": [\n    {\n      \"column\": \"GAME_ID\",\n      \"properties\": {\n        \"dtype\": \"number\",\n        \"std\": 352,\n        \"min\": 22300011,\n        \"max\": 22301224,\n        \"num_unique_values\": 82,\n        \"samples\": [\n          22300453,\n          22300066,\n          22300346\n        ],\n        \"semantic_type\": \"\",\n        \"description\": \"\"\n      }\n    },\n    {\n      \"column\": \"GAME_DATE\",\n      \"properties\": {\n        \"dtype\": \"date\",\n        \"min\": \"2023-10-25 00:00:00\",\n        \"max\": \"2024-04-14 00:00:00\",\n        \"num_unique_values\": 82,\n        \"samples\": [\n          \"2024-01-01 00:00:00\",\n          \"2023-10-25 00:00:00\",\n          \"2023-12-17 00:00:00\"\n        ],\n        \"semantic_type\": \"\",\n        \"description\": \"\"\n      }\n    },\n    {\n      \"column\": \"home_team\",\n      \"properties\": {\n        \"dtype\": \"category\",\n        \"num_unique_values\": 30,\n        \"samples\": [\n          \"SAC\",\n          \"BOS\",\n          \"ATL\"\n        ],\n        \"semantic_type\": \"\",\n        \"description\": \"\"\n      }\n    },\n    {\n      \"column\": \"away_team\",\n      \"properties\": {\n        \"dtype\": \"category\",\n        \"num_unique_values\": 30,\n        \"samples\": [\n          \"CHI\",\n          \"DET\",\n          \"NYK\"\n        ],\n        \"semantic_type\": \"\",\n        \"description\": \"\"\n      }\n    },\n    {\n      \"column\": \"hou_score\",\n      \"properties\": {\n        \"dtype\": \"number\",\n        \"std\": 12,\n        \"min\": 86,\n        \"max\": 147,\n        \"num_unique_values\": 39,\n        \"samples\": [\n          123,\n          132,\n          107\n        ],\n        \"semantic_type\": \"\",\n        \"description\": \"\"\n      }\n    },\n    {\n      \"column\": \"opp_score\",\n      \"properties\": {\n        \"dtype\": \"number\",\n        \"std\": 13.30435536677309,\n        \"min\": 82.0,\n        \"max\": 147.0,\n        \"num_unique_values\": 43,\n        \"samples\": [\n          117.0,\n          108.0,\n          120.0\n        ],\n        \"semantic_type\": \"\",\n        \"description\": \"\"\n      }\n    },\n    {\n      \"column\": \"rockets_win\",\n      \"properties\": {\n        \"dtype\": \"number\",\n        \"std\": 0,\n        \"min\": 0,\n        \"max\": 1,\n        \"num_unique_values\": 2,\n        \"samples\": [\n          1,\n          0\n        ],\n        \"semantic_type\": \"\",\n        \"description\": \"\"\n      }\n    }\n  ]\n}"
            }
          },
          "metadata": {},
          "execution_count": 98
        }
      ]
    },
    {
      "cell_type": "markdown",
      "source": [
        "# Feature Engineering"
      ],
      "metadata": {
        "id": "jsq6pW99V8K7"
      }
    },
    {
      "cell_type": "markdown",
      "source": [
        "To prepare the data for modeling, we engineered a focused and interpretable set of features based on play-by-play context. These features were designed to reflect the game state from the Houston Rockets’ perspective and to provide the model with meaningful temporal and contextual signals at each event in the game.\n",
        "\n",
        "The key steps in feature engineering included:\n",
        "\n",
        "1. Rockets-Specific Score Differential\n",
        "We merged home_team information from the rockets_summary table into the play-by-play dataset to determine whether the Rockets were playing at home or away. We then computed a rockets-centric score differential for every event:\n",
        "\n",
        "- If the Rockets were the home team: scoreHome − scoreAway\n",
        "\n",
        "- If the Rockets were the away team: scoreAway − scoreHome\n",
        "This transformation ensured that a positive value always indicates the Rockets are leading, regardless of their home/away status.\n",
        "\n",
        "2. Ball Possession Indicator\n",
        "Using the location field ('h' for home, 'v' for visitor), we created a binary rockets_possession feature that identifies whether the Rockets had possession of the ball at each event. This was essential for modeling momentum and understanding how possession impacted win probability.\n",
        "\n",
        "3. Encoded Action Types\n",
        "Each play is associated with a textual actionType (e.g., \"Made Shot\", \"Foul\", \"Rebound\"). We used LabelEncoder to convert these categorical strings into integers (actionType_encoded) so they could be fed into an embedding layer in the RNN model.\n",
        "\n",
        "4. Time Remaining (Normalized)\n",
        "The clock column provided time in ISO 8601 format (e.g., PT9M32.50S for 9 minutes and 32.5 seconds). We parsed this format using regular expressions and calculated the total seconds remaining in the game, accounting for quarter and overtime periods. Finally, we normalized the result by dividing by 2880 (the total number of seconds in a regulation game), yielding a time_remaining value between 0 and 1."
      ],
      "metadata": {
        "id": "CWY_iUhvstJZ"
      }
    },
    {
      "cell_type": "markdown",
      "source": [
        "## Merge game metadata onto play by play to understand if Rockets are Home / Visitor Team"
      ],
      "metadata": {
        "id": "TP0Wu8gSC0C3"
      }
    },
    {
      "cell_type": "code",
      "source": [
        "all_games_df = all_games_df.merge(\n",
        "    rockets_summary[['GAME_ID', 'home_team']],\n",
        "    on='GAME_ID',\n",
        "    how='left'\n",
        ")\n"
      ],
      "metadata": {
        "id": "l6f8yIhaCta-"
      },
      "execution_count": 99,
      "outputs": []
    },
    {
      "cell_type": "markdown",
      "source": [
        "## Calculate rockets_score_diff feature"
      ],
      "metadata": {
        "id": "eNFK8SawD06d"
      }
    },
    {
      "cell_type": "code",
      "source": [
        "# Fill forward scores\n",
        "all_games_df['scoreHome'] = all_games_df['scoreHome'].fillna(method='ffill')\n",
        "all_games_df['scoreAway'] = all_games_df['scoreAway'].fillna(method='ffill')\n",
        "\n",
        "# Rockets-centric differential\n",
        "def get_rockets_score_diff(row):\n",
        "    if row['home_team'] == 'HOU':\n",
        "        return row['scoreHome'] - row['scoreAway']\n",
        "    else:\n",
        "        return row['scoreAway'] - row['scoreHome']\n",
        "\n",
        "all_games_df['rockets_score_diff'] = all_games_df.apply(get_rockets_score_diff, axis=1)\n"
      ],
      "metadata": {
        "colab": {
          "base_uri": "https://localhost:8080/"
        },
        "id": "DdN4dnfqCtYk",
        "outputId": "3aeaadc7-85c6-452f-a3c6-81a485800d50"
      },
      "execution_count": 100,
      "outputs": [
        {
          "output_type": "stream",
          "name": "stderr",
          "text": [
            "<ipython-input-100-81e7c94c4ecf>:2: FutureWarning: Series.fillna with 'method' is deprecated and will raise in a future version. Use obj.ffill() or obj.bfill() instead.\n",
            "  all_games_df['scoreHome'] = all_games_df['scoreHome'].fillna(method='ffill')\n",
            "<ipython-input-100-81e7c94c4ecf>:3: FutureWarning: Series.fillna with 'method' is deprecated and will raise in a future version. Use obj.ffill() or obj.bfill() instead.\n",
            "  all_games_df['scoreAway'] = all_games_df['scoreAway'].fillna(method='ffill')\n"
          ]
        }
      ]
    },
    {
      "cell_type": "markdown",
      "source": [
        "## Create rockets_possesion feature which indicates if Rockets have the ball possession"
      ],
      "metadata": {
        "id": "FgLFrD0sDrNv"
      }
    },
    {
      "cell_type": "code",
      "source": [
        "def get_rockets_possession(row):\n",
        "    if pd.isna(row['location']):\n",
        "        return 0  # No one has possession (e.g., between quarters)\n",
        "    if row['home_team'] == 'HOU':\n",
        "        return 1 if row['location'] == 'h' else 0\n",
        "    else:\n",
        "        return 1 if row['location'] == 'v' else 0\n",
        "\n",
        "all_games_df['rockets_possession'] = all_games_df.apply(get_rockets_possession, axis=1)\n"
      ],
      "metadata": {
        "id": "ZT-yan4bCtWE"
      },
      "execution_count": 101,
      "outputs": []
    },
    {
      "cell_type": "markdown",
      "source": [
        "## Label Encode Action Type"
      ],
      "metadata": {
        "id": "vg7Mdg9hERlx"
      }
    },
    {
      "cell_type": "code",
      "source": [
        "from sklearn.preprocessing import LabelEncoder\n",
        "le_action = LabelEncoder()\n",
        "all_games_df['actionType'] = all_games_df['actionType'].fillna(\"Unknown\")\n",
        "all_games_df['actionType_encoded'] = le_action.fit_transform(all_games_df['actionType'])\n"
      ],
      "metadata": {
        "id": "M5r9gjtTCtTi"
      },
      "execution_count": 102,
      "outputs": []
    },
    {
      "cell_type": "markdown",
      "source": [
        "## Create Time-Remaining Feature\n",
        "\n",
        "create function to parse the time remaining from 'clock' column"
      ],
      "metadata": {
        "id": "8hnCIwuuWxxL"
      }
    },
    {
      "cell_type": "code",
      "source": [
        "import re\n",
        "\n",
        "def parse_clock_iso8601(clock_str):\n",
        "    \"\"\"Convert ISO 8601 period clock to total seconds.\"\"\"\n",
        "    try:\n",
        "        match = re.match(r'PT(\\d+)M([\\d\\.]+)S', clock_str)\n",
        "        if match:\n",
        "            minutes = int(match.group(1))\n",
        "            seconds = float(match.group(2))\n",
        "            return minutes * 60 + seconds\n",
        "    except:\n",
        "        pass\n",
        "    return 0.0\n",
        "\n"
      ],
      "metadata": {
        "id": "TMqo0r6gSXyp"
      },
      "execution_count": 103,
      "outputs": []
    },
    {
      "cell_type": "code",
      "source": [
        "def get_total_seconds_remaining(clock_str, period):\n",
        "    seconds_left_in_period = parse_clock_iso8601(clock_str)\n",
        "\n",
        "    if pd.isnull(period) or period < 1:\n",
        "        return 0.0\n",
        "\n",
        "    # Regular periods = 12 minutes\n",
        "    if period <= 4:\n",
        "        periods_remaining = 4 - period\n",
        "        total_seconds_remaining = periods_remaining * 12 * 60 + seconds_left_in_period\n",
        "    else:\n",
        "        # Overtime periods = 5 minutes\n",
        "        overtime_remaining = period - 4 - 1\n",
        "        total_seconds_remaining = overtime_remaining * 5 * 60 + seconds_left_in_period\n",
        "\n",
        "    return total_seconds_remaining\n"
      ],
      "metadata": {
        "id": "XU8hxh10W1_Z"
      },
      "execution_count": 104,
      "outputs": []
    },
    {
      "cell_type": "markdown",
      "source": [
        "Call on play-by-play data"
      ],
      "metadata": {
        "id": "7Ft7IQS9X195"
      }
    },
    {
      "cell_type": "code",
      "source": [
        "all_games_df['time_remaining'] = all_games_df.apply(\n",
        "    lambda row: get_total_seconds_remaining(row['clock'], row['period']),\n",
        "    axis=1\n",
        ")\n"
      ],
      "metadata": {
        "id": "5Z22Sr6YX0iB"
      },
      "execution_count": 105,
      "outputs": []
    },
    {
      "cell_type": "code",
      "source": [
        "all_games_df.head(10)"
      ],
      "metadata": {
        "colab": {
          "base_uri": "https://localhost:8080/",
          "height": 392
        },
        "id": "YtS7bSqbCtQ7",
        "outputId": "8b4d9fea-b777-4c7c-beb8-ec128c4e71ba"
      },
      "execution_count": 106,
      "outputs": [
        {
          "output_type": "execute_result",
          "data": {
            "text/plain": [
              "     gameId  actionNumber        clock  period      teamId teamTricode  \\\n",
              "0  22301199             2  PT12M00.00S       1           0         NaN   \n",
              "1  22301199             4  PT12M00.00S       1  1610612746         LAC   \n",
              "2  22301199             7  PT11M52.00S       1  1610612746         LAC   \n",
              "3  22301199             8  PT11M50.00S       1  1610612745         HOU   \n",
              "4  22301199             9  PT11M34.00S       1  1610612745         HOU   \n",
              "5  22301199            10  PT11M30.00S       1  1610612746         LAC   \n",
              "6  22301199            11  PT11M22.00S       1  1610612746         LAC   \n",
              "7  22301199            12  PT11M20.00S       1           0         NaN   \n",
              "8  22301199            14  PT11M08.00S       1  1610612745         HOU   \n",
              "9  22301199            16  PT10M42.00S       1  1610612746         LAC   \n",
              "\n",
              "     personId playerName   playerNameI  xLegacy  ...  actionId   GAME_ID  \\\n",
              "0           0        NaN           NaN        0  ...         1  22301199   \n",
              "1      203486    Plumlee    M. Plumlee        0  ...         2  22301199   \n",
              "2     1629611       Mann       T. Mann     -189  ...         3  22301199   \n",
              "3     1631095  Smith Jr.  J. Smith Jr.        0  ...         4  22301199   \n",
              "4     1630224      Green      J. Green     -158  ...         5  22301199   \n",
              "5     1629611       Mann       T. Mann        0  ...         6  22301199   \n",
              "6     1629875       Moon       X. Moon      -49  ...         7  22301199   \n",
              "7  1610612745        NaN           NaN        0  ...         8  22301199   \n",
              "8     1641708   Thompson   A. Thompson       17  ...         9  22301199   \n",
              "9     1629599     Coffey     A. Coffey      161  ...        10  22301199   \n",
              "\n",
              "  dataset_split  rockets_win  score_diff  home_team  rockets_score_diff  \\\n",
              "0          test            1         0.0        LAC                 0.0   \n",
              "1          test            1         NaN        LAC                 0.0   \n",
              "2          test            1         NaN        LAC                 0.0   \n",
              "3          test            1         NaN        LAC                 0.0   \n",
              "4          test            1         NaN        LAC                 0.0   \n",
              "5          test            1         NaN        LAC                 0.0   \n",
              "6          test            1         NaN        LAC                 0.0   \n",
              "7          test            1         NaN        LAC                 0.0   \n",
              "8          test            1        -2.0        LAC                 2.0   \n",
              "9          test            1         NaN        LAC                 2.0   \n",
              "\n",
              "  rockets_possession actionType_encoded time_remaining  \n",
              "0                  0                 13         2880.0  \n",
              "1                  0                  4         2880.0  \n",
              "2                  0                  6         2872.0  \n",
              "3                  1                  7         2870.0  \n",
              "4                  1                  6         2854.0  \n",
              "5                  0                  7         2850.0  \n",
              "6                  0                  6         2842.0  \n",
              "7                  1                  7         2840.0  \n",
              "8                  1                  5         2828.0  \n",
              "9                  0                  6         2802.0  \n",
              "\n",
              "[10 rows x 33 columns]"
            ],
            "text/html": [
              "\n",
              "  <div id=\"df-41769423-9e6e-4a7a-8007-793c7ec804e8\" class=\"colab-df-container\">\n",
              "    <div>\n",
              "<style scoped>\n",
              "    .dataframe tbody tr th:only-of-type {\n",
              "        vertical-align: middle;\n",
              "    }\n",
              "\n",
              "    .dataframe tbody tr th {\n",
              "        vertical-align: top;\n",
              "    }\n",
              "\n",
              "    .dataframe thead th {\n",
              "        text-align: right;\n",
              "    }\n",
              "</style>\n",
              "<table border=\"1\" class=\"dataframe\">\n",
              "  <thead>\n",
              "    <tr style=\"text-align: right;\">\n",
              "      <th></th>\n",
              "      <th>gameId</th>\n",
              "      <th>actionNumber</th>\n",
              "      <th>clock</th>\n",
              "      <th>period</th>\n",
              "      <th>teamId</th>\n",
              "      <th>teamTricode</th>\n",
              "      <th>personId</th>\n",
              "      <th>playerName</th>\n",
              "      <th>playerNameI</th>\n",
              "      <th>xLegacy</th>\n",
              "      <th>...</th>\n",
              "      <th>actionId</th>\n",
              "      <th>GAME_ID</th>\n",
              "      <th>dataset_split</th>\n",
              "      <th>rockets_win</th>\n",
              "      <th>score_diff</th>\n",
              "      <th>home_team</th>\n",
              "      <th>rockets_score_diff</th>\n",
              "      <th>rockets_possession</th>\n",
              "      <th>actionType_encoded</th>\n",
              "      <th>time_remaining</th>\n",
              "    </tr>\n",
              "  </thead>\n",
              "  <tbody>\n",
              "    <tr>\n",
              "      <th>0</th>\n",
              "      <td>22301199</td>\n",
              "      <td>2</td>\n",
              "      <td>PT12M00.00S</td>\n",
              "      <td>1</td>\n",
              "      <td>0</td>\n",
              "      <td>NaN</td>\n",
              "      <td>0</td>\n",
              "      <td>NaN</td>\n",
              "      <td>NaN</td>\n",
              "      <td>0</td>\n",
              "      <td>...</td>\n",
              "      <td>1</td>\n",
              "      <td>22301199</td>\n",
              "      <td>test</td>\n",
              "      <td>1</td>\n",
              "      <td>0.0</td>\n",
              "      <td>LAC</td>\n",
              "      <td>0.0</td>\n",
              "      <td>0</td>\n",
              "      <td>13</td>\n",
              "      <td>2880.0</td>\n",
              "    </tr>\n",
              "    <tr>\n",
              "      <th>1</th>\n",
              "      <td>22301199</td>\n",
              "      <td>4</td>\n",
              "      <td>PT12M00.00S</td>\n",
              "      <td>1</td>\n",
              "      <td>1610612746</td>\n",
              "      <td>LAC</td>\n",
              "      <td>203486</td>\n",
              "      <td>Plumlee</td>\n",
              "      <td>M. Plumlee</td>\n",
              "      <td>0</td>\n",
              "      <td>...</td>\n",
              "      <td>2</td>\n",
              "      <td>22301199</td>\n",
              "      <td>test</td>\n",
              "      <td>1</td>\n",
              "      <td>NaN</td>\n",
              "      <td>LAC</td>\n",
              "      <td>0.0</td>\n",
              "      <td>0</td>\n",
              "      <td>4</td>\n",
              "      <td>2880.0</td>\n",
              "    </tr>\n",
              "    <tr>\n",
              "      <th>2</th>\n",
              "      <td>22301199</td>\n",
              "      <td>7</td>\n",
              "      <td>PT11M52.00S</td>\n",
              "      <td>1</td>\n",
              "      <td>1610612746</td>\n",
              "      <td>LAC</td>\n",
              "      <td>1629611</td>\n",
              "      <td>Mann</td>\n",
              "      <td>T. Mann</td>\n",
              "      <td>-189</td>\n",
              "      <td>...</td>\n",
              "      <td>3</td>\n",
              "      <td>22301199</td>\n",
              "      <td>test</td>\n",
              "      <td>1</td>\n",
              "      <td>NaN</td>\n",
              "      <td>LAC</td>\n",
              "      <td>0.0</td>\n",
              "      <td>0</td>\n",
              "      <td>6</td>\n",
              "      <td>2872.0</td>\n",
              "    </tr>\n",
              "    <tr>\n",
              "      <th>3</th>\n",
              "      <td>22301199</td>\n",
              "      <td>8</td>\n",
              "      <td>PT11M50.00S</td>\n",
              "      <td>1</td>\n",
              "      <td>1610612745</td>\n",
              "      <td>HOU</td>\n",
              "      <td>1631095</td>\n",
              "      <td>Smith Jr.</td>\n",
              "      <td>J. Smith Jr.</td>\n",
              "      <td>0</td>\n",
              "      <td>...</td>\n",
              "      <td>4</td>\n",
              "      <td>22301199</td>\n",
              "      <td>test</td>\n",
              "      <td>1</td>\n",
              "      <td>NaN</td>\n",
              "      <td>LAC</td>\n",
              "      <td>0.0</td>\n",
              "      <td>1</td>\n",
              "      <td>7</td>\n",
              "      <td>2870.0</td>\n",
              "    </tr>\n",
              "    <tr>\n",
              "      <th>4</th>\n",
              "      <td>22301199</td>\n",
              "      <td>9</td>\n",
              "      <td>PT11M34.00S</td>\n",
              "      <td>1</td>\n",
              "      <td>1610612745</td>\n",
              "      <td>HOU</td>\n",
              "      <td>1630224</td>\n",
              "      <td>Green</td>\n",
              "      <td>J. Green</td>\n",
              "      <td>-158</td>\n",
              "      <td>...</td>\n",
              "      <td>5</td>\n",
              "      <td>22301199</td>\n",
              "      <td>test</td>\n",
              "      <td>1</td>\n",
              "      <td>NaN</td>\n",
              "      <td>LAC</td>\n",
              "      <td>0.0</td>\n",
              "      <td>1</td>\n",
              "      <td>6</td>\n",
              "      <td>2854.0</td>\n",
              "    </tr>\n",
              "    <tr>\n",
              "      <th>5</th>\n",
              "      <td>22301199</td>\n",
              "      <td>10</td>\n",
              "      <td>PT11M30.00S</td>\n",
              "      <td>1</td>\n",
              "      <td>1610612746</td>\n",
              "      <td>LAC</td>\n",
              "      <td>1629611</td>\n",
              "      <td>Mann</td>\n",
              "      <td>T. Mann</td>\n",
              "      <td>0</td>\n",
              "      <td>...</td>\n",
              "      <td>6</td>\n",
              "      <td>22301199</td>\n",
              "      <td>test</td>\n",
              "      <td>1</td>\n",
              "      <td>NaN</td>\n",
              "      <td>LAC</td>\n",
              "      <td>0.0</td>\n",
              "      <td>0</td>\n",
              "      <td>7</td>\n",
              "      <td>2850.0</td>\n",
              "    </tr>\n",
              "    <tr>\n",
              "      <th>6</th>\n",
              "      <td>22301199</td>\n",
              "      <td>11</td>\n",
              "      <td>PT11M22.00S</td>\n",
              "      <td>1</td>\n",
              "      <td>1610612746</td>\n",
              "      <td>LAC</td>\n",
              "      <td>1629875</td>\n",
              "      <td>Moon</td>\n",
              "      <td>X. Moon</td>\n",
              "      <td>-49</td>\n",
              "      <td>...</td>\n",
              "      <td>7</td>\n",
              "      <td>22301199</td>\n",
              "      <td>test</td>\n",
              "      <td>1</td>\n",
              "      <td>NaN</td>\n",
              "      <td>LAC</td>\n",
              "      <td>0.0</td>\n",
              "      <td>0</td>\n",
              "      <td>6</td>\n",
              "      <td>2842.0</td>\n",
              "    </tr>\n",
              "    <tr>\n",
              "      <th>7</th>\n",
              "      <td>22301199</td>\n",
              "      <td>12</td>\n",
              "      <td>PT11M20.00S</td>\n",
              "      <td>1</td>\n",
              "      <td>0</td>\n",
              "      <td>NaN</td>\n",
              "      <td>1610612745</td>\n",
              "      <td>NaN</td>\n",
              "      <td>NaN</td>\n",
              "      <td>0</td>\n",
              "      <td>...</td>\n",
              "      <td>8</td>\n",
              "      <td>22301199</td>\n",
              "      <td>test</td>\n",
              "      <td>1</td>\n",
              "      <td>NaN</td>\n",
              "      <td>LAC</td>\n",
              "      <td>0.0</td>\n",
              "      <td>1</td>\n",
              "      <td>7</td>\n",
              "      <td>2840.0</td>\n",
              "    </tr>\n",
              "    <tr>\n",
              "      <th>8</th>\n",
              "      <td>22301199</td>\n",
              "      <td>14</td>\n",
              "      <td>PT11M08.00S</td>\n",
              "      <td>1</td>\n",
              "      <td>1610612745</td>\n",
              "      <td>HOU</td>\n",
              "      <td>1641708</td>\n",
              "      <td>Thompson</td>\n",
              "      <td>A. Thompson</td>\n",
              "      <td>17</td>\n",
              "      <td>...</td>\n",
              "      <td>9</td>\n",
              "      <td>22301199</td>\n",
              "      <td>test</td>\n",
              "      <td>1</td>\n",
              "      <td>-2.0</td>\n",
              "      <td>LAC</td>\n",
              "      <td>2.0</td>\n",
              "      <td>1</td>\n",
              "      <td>5</td>\n",
              "      <td>2828.0</td>\n",
              "    </tr>\n",
              "    <tr>\n",
              "      <th>9</th>\n",
              "      <td>22301199</td>\n",
              "      <td>16</td>\n",
              "      <td>PT10M42.00S</td>\n",
              "      <td>1</td>\n",
              "      <td>1610612746</td>\n",
              "      <td>LAC</td>\n",
              "      <td>1629599</td>\n",
              "      <td>Coffey</td>\n",
              "      <td>A. Coffey</td>\n",
              "      <td>161</td>\n",
              "      <td>...</td>\n",
              "      <td>10</td>\n",
              "      <td>22301199</td>\n",
              "      <td>test</td>\n",
              "      <td>1</td>\n",
              "      <td>NaN</td>\n",
              "      <td>LAC</td>\n",
              "      <td>2.0</td>\n",
              "      <td>0</td>\n",
              "      <td>6</td>\n",
              "      <td>2802.0</td>\n",
              "    </tr>\n",
              "  </tbody>\n",
              "</table>\n",
              "<p>10 rows × 33 columns</p>\n",
              "</div>\n",
              "    <div class=\"colab-df-buttons\">\n",
              "\n",
              "  <div class=\"colab-df-container\">\n",
              "    <button class=\"colab-df-convert\" onclick=\"convertToInteractive('df-41769423-9e6e-4a7a-8007-793c7ec804e8')\"\n",
              "            title=\"Convert this dataframe to an interactive table.\"\n",
              "            style=\"display:none;\">\n",
              "\n",
              "  <svg xmlns=\"http://www.w3.org/2000/svg\" height=\"24px\" viewBox=\"0 -960 960 960\">\n",
              "    <path d=\"M120-120v-720h720v720H120Zm60-500h600v-160H180v160Zm220 220h160v-160H400v160Zm0 220h160v-160H400v160ZM180-400h160v-160H180v160Zm440 0h160v-160H620v160ZM180-180h160v-160H180v160Zm440 0h160v-160H620v160Z\"/>\n",
              "  </svg>\n",
              "    </button>\n",
              "\n",
              "  <style>\n",
              "    .colab-df-container {\n",
              "      display:flex;\n",
              "      gap: 12px;\n",
              "    }\n",
              "\n",
              "    .colab-df-convert {\n",
              "      background-color: #E8F0FE;\n",
              "      border: none;\n",
              "      border-radius: 50%;\n",
              "      cursor: pointer;\n",
              "      display: none;\n",
              "      fill: #1967D2;\n",
              "      height: 32px;\n",
              "      padding: 0 0 0 0;\n",
              "      width: 32px;\n",
              "    }\n",
              "\n",
              "    .colab-df-convert:hover {\n",
              "      background-color: #E2EBFA;\n",
              "      box-shadow: 0px 1px 2px rgba(60, 64, 67, 0.3), 0px 1px 3px 1px rgba(60, 64, 67, 0.15);\n",
              "      fill: #174EA6;\n",
              "    }\n",
              "\n",
              "    .colab-df-buttons div {\n",
              "      margin-bottom: 4px;\n",
              "    }\n",
              "\n",
              "    [theme=dark] .colab-df-convert {\n",
              "      background-color: #3B4455;\n",
              "      fill: #D2E3FC;\n",
              "    }\n",
              "\n",
              "    [theme=dark] .colab-df-convert:hover {\n",
              "      background-color: #434B5C;\n",
              "      box-shadow: 0px 1px 3px 1px rgba(0, 0, 0, 0.15);\n",
              "      filter: drop-shadow(0px 1px 2px rgba(0, 0, 0, 0.3));\n",
              "      fill: #FFFFFF;\n",
              "    }\n",
              "  </style>\n",
              "\n",
              "    <script>\n",
              "      const buttonEl =\n",
              "        document.querySelector('#df-41769423-9e6e-4a7a-8007-793c7ec804e8 button.colab-df-convert');\n",
              "      buttonEl.style.display =\n",
              "        google.colab.kernel.accessAllowed ? 'block' : 'none';\n",
              "\n",
              "      async function convertToInteractive(key) {\n",
              "        const element = document.querySelector('#df-41769423-9e6e-4a7a-8007-793c7ec804e8');\n",
              "        const dataTable =\n",
              "          await google.colab.kernel.invokeFunction('convertToInteractive',\n",
              "                                                    [key], {});\n",
              "        if (!dataTable) return;\n",
              "\n",
              "        const docLinkHtml = 'Like what you see? Visit the ' +\n",
              "          '<a target=\"_blank\" href=https://colab.research.google.com/notebooks/data_table.ipynb>data table notebook</a>'\n",
              "          + ' to learn more about interactive tables.';\n",
              "        element.innerHTML = '';\n",
              "        dataTable['output_type'] = 'display_data';\n",
              "        await google.colab.output.renderOutput(dataTable, element);\n",
              "        const docLink = document.createElement('div');\n",
              "        docLink.innerHTML = docLinkHtml;\n",
              "        element.appendChild(docLink);\n",
              "      }\n",
              "    </script>\n",
              "  </div>\n",
              "\n",
              "\n",
              "    <div id=\"df-07ac407d-00ff-42a8-bc8e-505a20d347b9\">\n",
              "      <button class=\"colab-df-quickchart\" onclick=\"quickchart('df-07ac407d-00ff-42a8-bc8e-505a20d347b9')\"\n",
              "                title=\"Suggest charts\"\n",
              "                style=\"display:none;\">\n",
              "\n",
              "<svg xmlns=\"http://www.w3.org/2000/svg\" height=\"24px\"viewBox=\"0 0 24 24\"\n",
              "     width=\"24px\">\n",
              "    <g>\n",
              "        <path d=\"M19 3H5c-1.1 0-2 .9-2 2v14c0 1.1.9 2 2 2h14c1.1 0 2-.9 2-2V5c0-1.1-.9-2-2-2zM9 17H7v-7h2v7zm4 0h-2V7h2v10zm4 0h-2v-4h2v4z\"/>\n",
              "    </g>\n",
              "</svg>\n",
              "      </button>\n",
              "\n",
              "<style>\n",
              "  .colab-df-quickchart {\n",
              "      --bg-color: #E8F0FE;\n",
              "      --fill-color: #1967D2;\n",
              "      --hover-bg-color: #E2EBFA;\n",
              "      --hover-fill-color: #174EA6;\n",
              "      --disabled-fill-color: #AAA;\n",
              "      --disabled-bg-color: #DDD;\n",
              "  }\n",
              "\n",
              "  [theme=dark] .colab-df-quickchart {\n",
              "      --bg-color: #3B4455;\n",
              "      --fill-color: #D2E3FC;\n",
              "      --hover-bg-color: #434B5C;\n",
              "      --hover-fill-color: #FFFFFF;\n",
              "      --disabled-bg-color: #3B4455;\n",
              "      --disabled-fill-color: #666;\n",
              "  }\n",
              "\n",
              "  .colab-df-quickchart {\n",
              "    background-color: var(--bg-color);\n",
              "    border: none;\n",
              "    border-radius: 50%;\n",
              "    cursor: pointer;\n",
              "    display: none;\n",
              "    fill: var(--fill-color);\n",
              "    height: 32px;\n",
              "    padding: 0;\n",
              "    width: 32px;\n",
              "  }\n",
              "\n",
              "  .colab-df-quickchart:hover {\n",
              "    background-color: var(--hover-bg-color);\n",
              "    box-shadow: 0 1px 2px rgba(60, 64, 67, 0.3), 0 1px 3px 1px rgba(60, 64, 67, 0.15);\n",
              "    fill: var(--button-hover-fill-color);\n",
              "  }\n",
              "\n",
              "  .colab-df-quickchart-complete:disabled,\n",
              "  .colab-df-quickchart-complete:disabled:hover {\n",
              "    background-color: var(--disabled-bg-color);\n",
              "    fill: var(--disabled-fill-color);\n",
              "    box-shadow: none;\n",
              "  }\n",
              "\n",
              "  .colab-df-spinner {\n",
              "    border: 2px solid var(--fill-color);\n",
              "    border-color: transparent;\n",
              "    border-bottom-color: var(--fill-color);\n",
              "    animation:\n",
              "      spin 1s steps(1) infinite;\n",
              "  }\n",
              "\n",
              "  @keyframes spin {\n",
              "    0% {\n",
              "      border-color: transparent;\n",
              "      border-bottom-color: var(--fill-color);\n",
              "      border-left-color: var(--fill-color);\n",
              "    }\n",
              "    20% {\n",
              "      border-color: transparent;\n",
              "      border-left-color: var(--fill-color);\n",
              "      border-top-color: var(--fill-color);\n",
              "    }\n",
              "    30% {\n",
              "      border-color: transparent;\n",
              "      border-left-color: var(--fill-color);\n",
              "      border-top-color: var(--fill-color);\n",
              "      border-right-color: var(--fill-color);\n",
              "    }\n",
              "    40% {\n",
              "      border-color: transparent;\n",
              "      border-right-color: var(--fill-color);\n",
              "      border-top-color: var(--fill-color);\n",
              "    }\n",
              "    60% {\n",
              "      border-color: transparent;\n",
              "      border-right-color: var(--fill-color);\n",
              "    }\n",
              "    80% {\n",
              "      border-color: transparent;\n",
              "      border-right-color: var(--fill-color);\n",
              "      border-bottom-color: var(--fill-color);\n",
              "    }\n",
              "    90% {\n",
              "      border-color: transparent;\n",
              "      border-bottom-color: var(--fill-color);\n",
              "    }\n",
              "  }\n",
              "</style>\n",
              "\n",
              "      <script>\n",
              "        async function quickchart(key) {\n",
              "          const quickchartButtonEl =\n",
              "            document.querySelector('#' + key + ' button');\n",
              "          quickchartButtonEl.disabled = true;  // To prevent multiple clicks.\n",
              "          quickchartButtonEl.classList.add('colab-df-spinner');\n",
              "          try {\n",
              "            const charts = await google.colab.kernel.invokeFunction(\n",
              "                'suggestCharts', [key], {});\n",
              "          } catch (error) {\n",
              "            console.error('Error during call to suggestCharts:', error);\n",
              "          }\n",
              "          quickchartButtonEl.classList.remove('colab-df-spinner');\n",
              "          quickchartButtonEl.classList.add('colab-df-quickchart-complete');\n",
              "        }\n",
              "        (() => {\n",
              "          let quickchartButtonEl =\n",
              "            document.querySelector('#df-07ac407d-00ff-42a8-bc8e-505a20d347b9 button');\n",
              "          quickchartButtonEl.style.display =\n",
              "            google.colab.kernel.accessAllowed ? 'block' : 'none';\n",
              "        })();\n",
              "      </script>\n",
              "    </div>\n",
              "\n",
              "    </div>\n",
              "  </div>\n"
            ],
            "application/vnd.google.colaboratory.intrinsic+json": {
              "type": "dataframe",
              "variable_name": "all_games_df"
            }
          },
          "metadata": {},
          "execution_count": 106
        }
      ]
    },
    {
      "cell_type": "markdown",
      "source": [
        "##Normalize Time Remaining"
      ],
      "metadata": {
        "id": "VqbTZGyxF34n"
      }
    },
    {
      "cell_type": "code",
      "source": [
        "all_games_df['time_remaining'] = all_games_df['time_remaining'] / 2880\n"
      ],
      "metadata": {
        "id": "OvEug0x6CtOo"
      },
      "execution_count": 107,
      "outputs": []
    },
    {
      "cell_type": "code",
      "source": [
        "FEATURE_COLS = [\n",
        "    'time_remaining',         # normalized [0, 1]\n",
        "    'rockets_score_diff',     # centered score diff (can be + or -)\n",
        "    'rockets_possession',     # 1 if Rockets have the ball\n",
        "    'actionType_encoded'      # categorical event type\n",
        "]\n",
        "\n"
      ],
      "metadata": {
        "id": "adPh6KwYCtMJ"
      },
      "execution_count": 108,
      "outputs": []
    },
    {
      "cell_type": "markdown",
      "source": [
        "# Model Building - Preparing Sequences for RNN Input"
      ],
      "metadata": {
        "id": "4cMYuEXpsf3Z"
      }
    },
    {
      "cell_type": "markdown",
      "source": [
        "## Generate X_data and Y_data\n",
        "\n",
        "To train a sequence model like an RNN, we first needed to reshape the event-level play-by-play data into uniform, fixed-length sequences representing each game. Recurrent Neural Networks require inputs of consistent shape, so we padded or truncated each game to a standard length of 512 events.\n",
        "\n",
        "1. Padding or Truncating Event Sequences\n",
        "Each game consists of a variable number of play-by-play events. To standardize the shape of our input data, we defined a helper function:\n",
        "\n",
        "2. Creating Model Input Arrays\n",
        "\n",
        "3. Expanding Labels to Per-Timestep Format"
      ],
      "metadata": {
        "id": "atPSffrTG_4H"
      }
    },
    {
      "cell_type": "code",
      "source": [
        "import numpy as np\n",
        "\n",
        "def pad_or_truncate_sequence(seq_df, seq_len=512):\n",
        "    seq = seq_df[FEATURE_COLS].values\n",
        "    if len(seq) >= seq_len:\n",
        "        return seq[:seq_len]\n",
        "    else:\n",
        "        padding = np.zeros((seq_len - len(seq), len(FEATURE_COLS)))\n",
        "        return np.vstack([seq, padding])\n",
        "\n",
        "X_data = []\n",
        "y_data = []\n",
        "\n",
        "for game_id, group in all_games_df.groupby('GAME_ID'):\n",
        "    features = pad_or_truncate_sequence(group)\n",
        "    label = group['rockets_win'].iloc[0]\n",
        "    X_data.append(features)\n",
        "    y_data.append(label)\n",
        "\n",
        "X_data = np.array(X_data)\n",
        "y_data = np.array(y_data)\n",
        "\n",
        "# Expand game-level label to match each timestep\n",
        "Y_data = np.array([[label] * 512 for label in y_data])\n",
        "Y_data = np.expand_dims(Y_data, axis=2)  # shape: (n_games, 512, 1)\n"
      ],
      "metadata": {
        "id": "WA-gsQ32CtJu"
      },
      "execution_count": 109,
      "outputs": []
    },
    {
      "cell_type": "markdown",
      "source": [
        "##Define Train/Test Split"
      ],
      "metadata": {
        "id": "dJZjoUMGHuew"
      }
    },
    {
      "cell_type": "markdown",
      "source": [
        "To evaluate model generalization, we performed a 70/30 split of the data:\n",
        "\n",
        "train_idx: indexes of games used for training (~57 games)\n",
        "\n",
        "test_idx: indexes of games held out for testing (~25 games)\n",
        "\n",
        "We also recorded the list of test GAME_IDs so we could later match predictions to the correct metadata (date, opponent, outcome) when visualizing results."
      ],
      "metadata": {
        "id": "jZhDvwKztkFD"
      }
    },
    {
      "cell_type": "code",
      "source": [
        "from sklearn.model_selection import train_test_split\n",
        "\n",
        "# Split indices\n",
        "game_indices = np.arange(len(X_data))  # 0 to 81\n",
        "train_idx, test_idx = train_test_split(game_indices, test_size=0.3, random_state=42, shuffle=True)\n"
      ],
      "metadata": {
        "id": "zmTIc0ZCHs-W"
      },
      "execution_count": 124,
      "outputs": []
    },
    {
      "cell_type": "code",
      "source": [
        "test_game_ids = [list(all_games_df.groupby('GAME_ID').groups.keys())[i] for i in test_idx]\n"
      ],
      "metadata": {
        "id": "GFDvDm99MQNc"
      },
      "execution_count": 125,
      "outputs": []
    },
    {
      "cell_type": "markdown",
      "source": [
        "##Split Train/Test and Convert to Tensors"
      ],
      "metadata": {
        "id": "pnfqcey0HYJ8"
      }
    },
    {
      "cell_type": "code",
      "source": [
        "import torch\n",
        "import torch.nn as nn\n",
        "import torch.optim as optim\n",
        "\n",
        "X_train = X_data[train_idx]\n",
        "X_test = X_data[test_idx]\n",
        "Y_train = Y_data[train_idx]\n",
        "Y_test = Y_data[test_idx]\n",
        "\n",
        "# Split into numeric + categorical\n",
        "x_numeric_train = torch.tensor(X_train[:, :, :3], dtype=torch.float32)  # time_remaining, score_diff, possession\n",
        "x_action_train  = torch.tensor(X_train[:, :, 3].astype(int), dtype=torch.long)\n",
        "y_train_tensor  = torch.tensor(Y_train, dtype=torch.float32)\n",
        "\n",
        "x_numeric_test = torch.tensor(X_test[:, :, :3], dtype=torch.float32)\n",
        "x_action_test  = torch.tensor(X_test[:, :, 3].astype(int), dtype=torch.long)\n",
        "y_test_tensor  = torch.tensor(Y_test, dtype=torch.float32)\n"
      ],
      "metadata": {
        "id": "kAKAOiKqCtGo"
      },
      "execution_count": 126,
      "outputs": []
    },
    {
      "cell_type": "markdown",
      "source": [
        "## Model Architecture: Rockets Win Probability RNN\n",
        "\n",
        "\n",
        "To model the evolving probability of a Rockets win throughout each game, we implemented a custom Recurrent Neural Network (RNN) using PyTorch. The RNN was designed to process sequential, event-by-event input and output a predicted win probability at every timestep (event index)."
      ],
      "metadata": {
        "id": "hzvEyoEiIJwI"
      }
    },
    {
      "cell_type": "markdown",
      "source": [
        "We defined a custom neural network class RocketsWinProbRNN(nn.Module) with the following architecture:\n",
        "\n",
        "Embedding Layer:\n",
        "The categorical actionType_encoded feature is passed through an nn.Embedding layer to learn a dense vector representation of each action type. This transforms a single integer input per timestep into an 8-dimensional vector.\n",
        "\n",
        "Input Concatenation:\n",
        "The embedded action vectors are concatenated with the other 3 numeric features (time_remaining, rockets_score_diff, rockets_possession) to form the complete input at each timestep. The resulting input shape per event is input_size + embed_dim = 3 + 8 = 11.\n",
        "\n",
        "LSTM Layers:\n",
        "A two-layer LSTM (nn.LSTM) processes the concatenated input sequence. This recurrent component allows the model to track evolving game context by learning temporal dependencies over time. The hidden state size is 128 units.\n",
        "\n",
        "Fully Connected Output Layer:\n",
        "The output of the final LSTM layer at each timestep is passed through a linear layer (nn.Linear) to reduce the dimensionality to a single logit per event. This logit is later passed through a sigmoid function to obtain a win probability between 0 and 1."
      ],
      "metadata": {
        "id": "tExQnMNXuRyq"
      }
    },
    {
      "cell_type": "code",
      "source": [
        "class RocketsWinProbRNN(nn.Module):\n",
        "    def __init__(self, input_size=3, hidden_size=128, num_layers=2, num_action_types=30, embed_dim=8, dropout=0.2):\n",
        "        super().__init__()\n",
        "        self.action_embed = nn.Embedding(num_action_types, embed_dim)\n",
        "        self.rnn_input_size = input_size + embed_dim\n",
        "\n",
        "        self.lstm = nn.LSTM(\n",
        "            input_size=self.rnn_input_size,\n",
        "            hidden_size=hidden_size,\n",
        "            num_layers=num_layers,\n",
        "            dropout=dropout,\n",
        "            batch_first=True\n",
        "        )\n",
        "        self.fc = nn.Linear(hidden_size, 1)\n",
        "\n",
        "    def forward(self, x_numeric, x_action):\n",
        "        x_embed = self.action_embed(x_action)\n",
        "        x = torch.cat([x_numeric, x_embed], dim=2)\n",
        "        out, _ = self.lstm(x)\n",
        "        logits = self.fc(out)\n",
        "        return logits\n"
      ],
      "metadata": {
        "id": "tLq1z1zbCtEE"
      },
      "execution_count": 127,
      "outputs": []
    },
    {
      "cell_type": "markdown",
      "source": [
        "## Model Compilation and Setup - Initialize Model, Loss, Optimizer\n",
        "\n",
        "Once the model architecture was defined, we proceeded to initialize and compile the model by configuring its parameters, loss function, and optimizer. We also ensured compatibility with GPU acceleration for improved training speed.\n",
        "\n",
        "Loss Function: We used the BCEWithLogitsLoss as our loss function, which combines a sigmoid activation with binary cross-entropy loss. This is a standard choice for binary classification tasks. It is particularly useful here because our model predicts per-timestep logits, which are then interpreted as win probabilities.\n",
        "\n",
        "Optimizer: To update model weights during training, we used the Adam optimizer, known for adaptive learning rates and efficient convergence:"
      ],
      "metadata": {
        "id": "gqoTD7uAIYx0"
      }
    },
    {
      "cell_type": "code",
      "source": [
        "num_action_types = all_games_df['actionType_encoded'].nunique()\n",
        "\n",
        "device = torch.device('cuda' if torch.cuda.is_available() else 'cpu')\n",
        "model = RocketsWinProbRNN(input_size=3, num_action_types=num_action_types).to(device)\n",
        "\n",
        "criterion = nn.BCEWithLogitsLoss()\n",
        "optimizer = torch.optim.Adam(model.parameters(), lr=0.001)\n",
        "\n",
        "# Send tensors to device\n",
        "x_numeric_train = x_numeric_train.to(device)\n",
        "x_action_train = x_action_train.to(device)\n",
        "y_train_tensor = y_train_tensor.to(device)\n",
        "\n",
        "x_numeric_test = x_numeric_test.to(device)\n",
        "x_action_test = x_action_test.to(device)\n",
        "y_test_tensor = y_test_tensor.to(device)\n"
      ],
      "metadata": {
        "id": "_mdEoIOkCtBG"
      },
      "execution_count": 128,
      "outputs": []
    },
    {
      "cell_type": "markdown",
      "source": [
        "##Train the Model\n",
        "\n",
        "With the model architecture defined and compiled, we proceeded to train the model using the full sequence of game events per match (up to 512 events), each represented by four engineered features. Our goal was to predict the Rockets’ win probability at each moment in the game.\n",
        "\n",
        "We trained the model for 30 epochs using the Adam optimizer and binary cross-entropy loss. At each epoch:\n",
        "\n",
        "1. The model entered training mode with model.train().\n",
        "\n",
        "2. Forward propagation produced predicted logits for each timestep.\n",
        "\n",
        "3. The loss between predicted and actual labels was computed using BCEWithLogitsLoss.\n",
        "\n",
        "4. Gradients were backpropagated using loss.backward().\n",
        "\n",
        "5. Model weights were updated via optimizer.step()."
      ],
      "metadata": {
        "id": "KfR45HgnIiLc"
      }
    },
    {
      "cell_type": "code",
      "source": [
        "for epoch in range(30):\n",
        "    model.train()\n",
        "    optimizer.zero_grad()\n",
        "\n",
        "    logits = model(x_numeric_train, x_action_train)\n",
        "    loss = criterion(logits, y_train_tensor)\n",
        "\n",
        "    loss.backward()\n",
        "    optimizer.step()\n",
        "\n",
        "    print(f\"Epoch {epoch+1} Loss: {loss.item():.4f}\")\n"
      ],
      "metadata": {
        "colab": {
          "base_uri": "https://localhost:8080/"
        },
        "id": "Ftvtci3TCs90",
        "outputId": "d14eedf3-d626-4378-87ef-0bebbecb8799"
      },
      "execution_count": 129,
      "outputs": [
        {
          "output_type": "stream",
          "name": "stdout",
          "text": [
            "Epoch 1 Loss: 0.6931\n",
            "Epoch 2 Loss: 0.6585\n",
            "Epoch 3 Loss: 0.6259\n",
            "Epoch 4 Loss: 0.5940\n",
            "Epoch 5 Loss: 0.5627\n",
            "Epoch 6 Loss: 0.5325\n",
            "Epoch 7 Loss: 0.5051\n",
            "Epoch 8 Loss: 0.4833\n",
            "Epoch 9 Loss: 0.4702\n",
            "Epoch 10 Loss: 0.4677\n",
            "Epoch 11 Loss: 0.4732\n",
            "Epoch 12 Loss: 0.4801\n",
            "Epoch 13 Loss: 0.4839\n",
            "Epoch 14 Loss: 0.4828\n",
            "Epoch 15 Loss: 0.4788\n",
            "Epoch 16 Loss: 0.4723\n",
            "Epoch 17 Loss: 0.4666\n",
            "Epoch 18 Loss: 0.4617\n",
            "Epoch 19 Loss: 0.4583\n",
            "Epoch 20 Loss: 0.4572\n",
            "Epoch 21 Loss: 0.4571\n",
            "Epoch 22 Loss: 0.4578\n",
            "Epoch 23 Loss: 0.4586\n",
            "Epoch 24 Loss: 0.4586\n",
            "Epoch 25 Loss: 0.4585\n",
            "Epoch 26 Loss: 0.4568\n",
            "Epoch 27 Loss: 0.4557\n",
            "Epoch 28 Loss: 0.4538\n",
            "Epoch 29 Loss: 0.4521\n",
            "Epoch 30 Loss: 0.4504\n"
          ]
        }
      ]
    },
    {
      "cell_type": "markdown",
      "source": [
        "This loss curve suggests that the model converged effectively, especially after epoch 10, where improvements became incremental. Further improvements could involve hyperparameter tuning or adding regularization."
      ],
      "metadata": {
        "id": "o5BLPKiKvpY2"
      }
    },
    {
      "cell_type": "markdown",
      "source": [
        "##Evaluate Model Accuracy"
      ],
      "metadata": {
        "id": "N1MybpN2JX2-"
      }
    },
    {
      "cell_type": "markdown",
      "source": [
        "After switching the model to evaluation mode (model.eval()), we used the following steps to generate predictions:\n",
        "\n",
        "1. Forward Pass: Compute predicted logits using the trained model.\n",
        "\n",
        "2. Probability Conversion: Apply the sigmoid function to convert logits to probabilities.\n",
        "\n",
        "3. Thresholding: Convert probabilities into binary predictions using a threshold of 0.5.\n",
        "\n",
        "4. Accuracy Calculation: Compare predictions against ground truth labels and compute the proportion of correct predictions at the per-timestep level."
      ],
      "metadata": {
        "id": "9EPGC4hxv6Zb"
      }
    },
    {
      "cell_type": "code",
      "source": [
        "model.eval()\n",
        "with torch.no_grad():\n",
        "    logits = model(x_numeric_test, x_action_test)\n",
        "    probs = torch.sigmoid(logits)\n",
        "    preds = (probs >= 0.5).float()\n",
        "\n",
        "    accuracy = (preds == y_test_tensor).float().mean()\n",
        "    print(f\"Per-Timestep Test Accuracy: {accuracy:.4f}\")\n"
      ],
      "metadata": {
        "colab": {
          "base_uri": "https://localhost:8080/"
        },
        "id": "AXMQFRHuCs16",
        "outputId": "7c010e1c-aef4-4530-8865-204de0524f20"
      },
      "execution_count": 130,
      "outputs": [
        {
          "output_type": "stream",
          "name": "stdout",
          "text": [
            "Per-Timestep Test Accuracy: 0.6488\n"
          ]
        }
      ]
    },
    {
      "cell_type": "markdown",
      "source": [
        "This indicates that the model correctly predicted the game outcome at each timestep roughly 65% of the time, significantly better than random guessing (50%). This validates that the model learned useful temporal patterns and context from the game sequence data."
      ],
      "metadata": {
        "id": "YmLivjJVwEfT"
      }
    },
    {
      "cell_type": "markdown",
      "source": [
        "##Visualize Score Differential throughout game"
      ],
      "metadata": {
        "id": "DaeKPC26JbqE"
      }
    },
    {
      "cell_type": "markdown",
      "source": [
        "After training and evaluating the RNN model, we created a visual tool to explore the model’s predictions over time during each game. This graph provides a more intuitive understanding of how the model assesses the Rockets' chances of winning as the game progresses."
      ],
      "metadata": {
        "id": "oG_wkjfEwXJ4"
      }
    },
    {
      "cell_type": "code",
      "source": [
        "test_game_info = rockets_summary[rockets_summary['GAME_ID'].isin(test_game_ids)]\n",
        "test_game_info = test_game_info.set_index('GAME_ID').loc[test_game_ids].reset_index()\n"
      ],
      "metadata": {
        "id": "e656_AQNKCmm"
      },
      "execution_count": 131,
      "outputs": []
    },
    {
      "cell_type": "code",
      "source": [
        "# Fix for plotting function compatibility\n",
        "X_test_num = x_numeric_test\n",
        "X_test_action = x_action_test\n"
      ],
      "metadata": {
        "id": "jExbt572iD3i"
      },
      "execution_count": 132,
      "outputs": []
    },
    {
      "cell_type": "code",
      "source": [
        "def plot_win_prob_over_time(game_index):\n",
        "    \"\"\"\n",
        "    Plots the predicted win probability over time for a given game.\n",
        "    Overlays score differential on a secondary y-axis.\n",
        "    \"\"\"\n",
        "    model.eval()\n",
        "    with torch.no_grad():\n",
        "        x_numeric = X_test_num[game_index].unsqueeze(0).to(device)\n",
        "        x_action = X_test_action[game_index].unsqueeze(0).to(device)\n",
        "\n",
        "        logits = model(x_numeric, x_action)\n",
        "        probs = torch.sigmoid(logits).squeeze(0).squeeze(-1)  # shape: (512,)\n",
        "        win_prob = probs.cpu().numpy()\n",
        "\n",
        "    # Extract score_diff and time from raw X_test_num (before scaling is okay here)\n",
        "    score_diff = X_test_num[game_index][:, FEATURE_COLS.index('rockets_score_diff')].cpu().numpy()\n",
        "    time_left = X_test_num[game_index][:, FEATURE_COLS.index('time_remaining')].cpu().numpy()\n",
        "\n",
        "    game_meta = test_game_info.iloc[game_index]\n",
        "    game_label = y_test_tensor[game_index][0].item()\n",
        "    result = \"Rockets Win\" if game_label == 1 else \"Rockets Loss\"\n",
        "\n",
        "    # Plot\n",
        "    fig, ax1 = plt.subplots(figsize=(12, 6))\n",
        "\n",
        "    ax1.plot(range(len(win_prob)), win_prob, color='blue', label='Win Probability')\n",
        "    ax1.set_xlabel('Timestep (event index)')\n",
        "    ax1.set_ylabel('Win Probability', color='blue')\n",
        "    ax1.tick_params(axis='y', labelcolor='blue')\n",
        "    ax1.set_ylim([0, 1])\n",
        "\n",
        "    ax2 = ax1.twinx()\n",
        "    ax2.plot(range(len(score_diff)), score_diff, color='red', linestyle='--', label='Score Differential')\n",
        "    ax2.set_ylabel('Score Differential (Rockets)', color='red')\n",
        "    ax2.tick_params(axis='y', labelcolor='red')\n",
        "\n",
        "    plt.title(f\"{game_meta['GAME_DATE']} | {game_meta['away_team']} @ {game_meta['home_team']} | {result}\")\n",
        "    fig.tight_layout()\n",
        "    plt.grid(True)\n",
        "    plt.show()\n"
      ],
      "metadata": {
        "id": "rt6B611DIep-"
      },
      "execution_count": 156,
      "outputs": []
    },
    {
      "cell_type": "code",
      "source": [
        "plot_win_prob_over_time(1)"
      ],
      "metadata": {
        "colab": {
          "base_uri": "https://localhost:8080/",
          "height": 607
        },
        "id": "SpypcvJYIenr",
        "outputId": "703fe89a-b599-402f-ef50-26643079fee9"
      },
      "execution_count": 158,
      "outputs": [
        {
          "output_type": "display_data",
          "data": {
            "text/plain": [
              "<Figure size 1200x600 with 2 Axes>"
            ],
            "image/png": "[encoded data removed]"
          },
          "metadata": {}
        }
      ]
    },
    {
      "cell_type": "markdown",
      "source": [
        "# Discussion / Conclusions:"
      ],
      "metadata": {
        "id": "HJH0ciXTwgvS"
      }
    },
    {
      "cell_type": "markdown",
      "source": [
        "In this project, we built a recurrent neural network (RNN) model to predict the Houston Rockets’ win probability in real-time using play-by-play NBA game data. The model was trained on sequences of in-game events encoded with features such as time remaining, score differential, possession status, and categorized action types. Each game was modeled as a sequence of up to 512 events."
      ],
      "metadata": {
        "id": "XVIBsSPLwpLa"
      }
    },
    {
      "cell_type": "markdown",
      "source": [
        "**Model Performance:**\n",
        "The model achieved a per-timestep test accuracy of 64.88%, which is a strong baseline for sequence-based win probability prediction, especially given the relatively small dataset of ~80 games. The decreasing training loss across epochs also indicated successful learning.\n",
        "\n",
        "**Feature Importance:**\n",
        "Three numeric features (time remaining, score differential, possession) and one categorical feature (action type) contributed to each timestep prediction. The use of embedding layers for action types allowed the model to learn relationships between different play types beyond one-hot encoding.\n",
        "\n",
        "**Dynamic Prediction Behavior:**\n",
        "Visual inspection of predicted win probability curves demonstrated that the model adjusted to significant shifts in momentum, such as big scoring runs or critical possessions. Overlaying the score differential helped validate that prediction changes aligned with meaningful in-game events."
      ],
      "metadata": {
        "id": "Szzyn9k9ws9E"
      }
    },
    {
      "cell_type": "markdown",
      "source": [
        "## Challenges and Limitations"
      ],
      "metadata": {
        "id": "NMga_ktgxS46"
      }
    },
    {
      "cell_type": "markdown",
      "source": [
        "Data Limitations:\n",
        "The dataset was limited to the 2023–2024 season and only included Rockets games, which restricted generalizability and training volume. With more seasons and teams, the model could generalize better and potentially perform more accurately.\n",
        "\n",
        "Labeling Granularity:\n",
        "The model was trained with a binary game-level outcome (win/loss) applied to all 512 timesteps, which assumes the final result as ground truth throughout the sequence. This introduces noise early in the game when outcomes are highly uncertain. A potential improvement would be to use dynamic labeling (e.g., real-time win probabilities from betting markets or expert sources).\n",
        "\n",
        "Evaluation Metric:\n",
        "We evaluated accuracy per timestep, but additional metrics like AUC, cross-entropy loss, or confidence calibration curves could offer deeper insights into model performance."
      ],
      "metadata": {
        "id": "Z8rPTxKDxWwQ"
      }
    },
    {
      "cell_type": "markdown",
      "source": [
        "## Future Improvements\n",
        "\n",
        "1. Expand Dataset to include multiple seasons and teams for better generalization.\n",
        "\n",
        "2. Incorporate Advanced Features such as player-level events, foul counts, and lineups.\n",
        "\n",
        "3. Explore Alternative Architectures like GRUs or Transformers for capturing longer-range dependencies and improving predictive sharpness.\n",
        "\n",
        "4. Add Real-Time Labels from probabilistic sources to train the model to reflect actual in-game uncertainty."
      ],
      "metadata": {
        "id": "bAzV-TD8xazV"
      }
    },
    {
      "cell_type": "markdown",
      "source": [
        "## Final Thoughts\n",
        "\n",
        "This project demonstrates the potential of deep learning models—especially RNNs—for real-time sports analytics. Even with limited data, our model was able to capture meaningful dynamics in NBA games and offer an interpretable win probability curve. With continued refinement and data expansion, such models could be used by teams, broadcasters, or analysts to provide live insights during games."
      ],
      "metadata": {
        "id": "TKytftXUxwWc"
      }
    },
    {
      "cell_type": "code",
      "source": [],
      "metadata": {
        "id": "eYLxAJNJxVoM"
      },
      "execution_count": null,
      "outputs": []
    }
  ]
}